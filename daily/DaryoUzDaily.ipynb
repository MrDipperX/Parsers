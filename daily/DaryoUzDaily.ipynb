{
 "cells": [
  {
   "cell_type": "code",
   "execution_count": 1,
   "id": "816898fd",
   "metadata": {},
   "outputs": [],
   "source": [
    "import aiohttp\n",
    "import asyncio\n",
    "import bs4\n",
    "import datetime\n",
    "from io import BytesIO\n",
    "import os.path\n",
    "import pandas as pd\n",
    "import PyPDF2\n",
    "import requests\n",
    "from tqdm.contrib.telegram import tqdm\n",
    "\n",
    "from pdfminer.high_level import extract_pages\n",
    "from pdfminer.layout import LTTextContainer, LTChar, LTTextLineHorizontal\n",
    "from PyPDF2 import PdfReader\n",
    "\n",
    "from urllib.parse import unquote\n",
    "# from transliterate import to_latin\n",
    "import os\n",
    "\n",
    "import time\n",
    "from datetime import datetime\n",
    "import pytz\n",
    "import logging\n",
    "\n"
   ]
  },
  {
   "cell_type": "code",
   "execution_count": null,
   "id": "37381f7f",
   "metadata": {},
   "outputs": [],
   "source": []
  },
  {
   "cell_type": "code",
   "execution_count": 2,
   "id": "64d1141e",
   "metadata": {},
   "outputs": [],
   "source": [
    "TOKEN = os.getenv('TOKEN')\n",
    "CHAT_ID = os.getenv('CHAT_ID')"
   ]
  },
  {
   "cell_type": "code",
   "execution_count": 3,
   "id": "04c8f97f",
   "metadata": {},
   "outputs": [],
   "source": [
    "NEWS_URL = \"https://daryo.uz/yangiliklar?page=0&per-page=200\""
   ]
  },
  {
   "cell_type": "code",
   "execution_count": 4,
   "id": "021f79f5",
   "metadata": {},
   "outputs": [],
   "source": [
    "BASE_URL = \"https://daryo.uz\" "
   ]
  },
  {
   "cell_type": "code",
   "execution_count": 5,
   "id": "ed94b1df",
   "metadata": {},
   "outputs": [],
   "source": [
    "# global_links = []\n",
    "# global_dates = []\n",
    "\n",
    "\n",
    "def daily_scrapping_urls():\n",
    "    try:\n",
    "        links = []\n",
    "        days = []\n",
    "        \n",
    "        resp = requests.get(NEWS_URL)\n",
    "        if resp.status_code == 200:\n",
    "            data = resp.text\n",
    "            soup = bs4.BeautifulSoup(data)\n",
    "            \n",
    "            main_content = soup.find('main', class_='maincontent').find_all('div', class_=\"mini__article-block border\")\n",
    "            \n",
    "            links.extend([BASE_URL+link.find('a', class_=\"mini__article-link\")['href'] for link in main_content])\n",
    "            days.extend([link.find('div', class_='article__meta').text.split(\",\")[0] for link in main_content])\n",
    "\n",
    "            return {\"links\":links, \"days\":days}\n",
    "        elif resp.status_code != 404:\n",
    "            time.sleep(60) # 1 minute\n",
    "    except Exception as e:\n",
    "        print(e)"
   ]
  },
  {
   "cell_type": "code",
   "execution_count": 6,
   "id": "d7d59ea6",
   "metadata": {},
   "outputs": [],
   "source": [
    "def filter_today_news():\n",
    "    news = daily_scrapping_urls()\n",
    "    \n",
    "    df = pd.DataFrame(news)\n",
    "    df.days = df.days.str.replace(\"\\n\\n \", \"\")\n",
    "    df.days = df.days.str.strip()\n",
    "    \n",
    "    df = df[df['days'] == 'Bugun']\n",
    "    \n",
    "    return df.links.to_list()"
   ]
  },
  {
   "cell_type": "code",
   "execution_count": 7,
   "id": "08822243",
   "metadata": {},
   "outputs": [],
   "source": [
    "def daily_scrapping_news():\n",
    "    try:\n",
    "        results = []\n",
    "        \n",
    "        today_news = filter_today_news()\n",
    "\n",
    "        for link in today_news:\n",
    "            resp = requests.get(link)\n",
    "\n",
    "            if resp.status_code == 200:\n",
    "                data = resp.text\n",
    "                soup = bs4.BeautifulSoup(data)\n",
    "                title = soup.find('div', class_=\"inner__article-info border\").find('h1').text\n",
    "                content = soup.find('div', class_='default__section border').find_all(\"p\")\n",
    "\n",
    "                results.append({\n",
    "                                \"title\": title.strip(),\n",
    "                                \"content\": \" \".join([p.text for p in content])\n",
    "                            })\n",
    "\n",
    "\n",
    "            elif resp.status_code != 404:\n",
    "                print(\"404\")\n",
    "                time.sleep(60) # 1 minute\n",
    "\n",
    "        return results\n",
    "    except Exception as e:\n",
    "        print(e)"
   ]
  },
  {
   "cell_type": "code",
   "execution_count": 8,
   "id": "999f0d68",
   "metadata": {},
   "outputs": [],
   "source": [
    "def get_values_df():\n",
    "    values = daily_scrapping_news()\n",
    "    return pd.DataFrame(values)"
   ]
  },
  {
   "cell_type": "code",
   "execution_count": 9,
   "id": "b07eadb5",
   "metadata": {},
   "outputs": [],
   "source": [
    "def update_df():\n",
    "    try:\n",
    "        path = './DailyDaryoUz.pickle'\n",
    "        check_file = os.path.exists(path)\n",
    "        if check_file:\n",
    "            df = pd.read_pickle(path)\n",
    "        else:\n",
    "            df = pd.DataFrame()\n",
    "\n",
    "        current_date = datetime.now(pytz.timezone('Asia/Tashkent'))\n",
    "\n",
    "        adding_df = get_values_df()\n",
    "        adding_df.to_pickle(f'daily pickles/{current_date.day}-{current_date.month}-{current_date.year}-daryo.pickle')\n",
    "\n",
    "        df = pd.concat([df, adding_df], axis=0, ignore_index=True)\n",
    "        df.to_pickle(path)\n",
    "\n",
    "        logging.basicConfig(filename='scheduler.log', filemode='a', format='%(name)s - %(levelname)s - %(message)s')\n",
    "        logging.getLogger().setLevel(logging.INFO)\n",
    "        logging.info(f\"DARYO.uz {current_date} COMPLETE!\")\n",
    "\n",
    "        print(current_date, \"COMPLETE!\")\n",
    "    except Exception as e:\n",
    "        print(e)"
   ]
  },
  {
   "cell_type": "code",
   "execution_count": null,
   "id": "99abb320",
   "metadata": {},
   "outputs": [],
   "source": [
    "# Schedule Library imported\n",
    "import schedule\n",
    "import time\n",
    "\n",
    "\n",
    "schedule.every().day.at(\"18:56\").do(update_df) # 23:56 UTC+5\n",
    "\n",
    "# Loop so that the scheduling task\n",
    "# keeps on running all time.\n",
    "while True:\n",
    " \n",
    "    # Checks whether a scheduled task\n",
    "    # is pending to run or not\n",
    "    schedule.run_pending()\n",
    "    time.sleep(1)"
   ]
  },
  {
   "cell_type": "code",
   "execution_count": null,
   "id": "5ef982f4",
   "metadata": {},
   "outputs": [],
   "source": []
  },
  {
   "cell_type": "code",
   "execution_count": null,
   "id": "74d6f56e",
   "metadata": {},
   "outputs": [],
   "source": []
  },
  {
   "cell_type": "code",
   "execution_count": null,
   "id": "1d091d42",
   "metadata": {},
   "outputs": [],
   "source": []
  },
  {
   "cell_type": "code",
   "execution_count": null,
   "id": "25d318e7",
   "metadata": {},
   "outputs": [],
   "source": []
  },
  {
   "cell_type": "code",
   "execution_count": null,
   "id": "5140005b",
   "metadata": {},
   "outputs": [],
   "source": []
  },
  {
   "cell_type": "markdown",
   "id": "9d645095",
   "metadata": {},
   "source": [
    "# 2 months before scrapping\n"
   ]
  },
  {
   "cell_type": "code",
   "execution_count": 41,
   "id": "38fe732c",
   "metadata": {},
   "outputs": [],
   "source": [
    "NEWS_URL2 = \"https://daryo.uz/yangiliklar?page={page}&per-page=100&last_date=2023-07-27\""
   ]
  },
  {
   "cell_type": "code",
   "execution_count": 43,
   "id": "616d7c5f",
   "metadata": {},
   "outputs": [],
   "source": [
    "try:\n",
    "    links = []\n",
    "    days = []\n",
    "    for i in range(46):\n",
    "        resp = requests.get(NEWS_URL2.format(page=i))\n",
    "        if resp.status_code == 200:\n",
    "            data = resp.text\n",
    "            soup = bs4.BeautifulSoup(data)\n",
    "\n",
    "            main_content = soup.find('main', class_='maincontent').find_all('div', class_=\"mini__article-block border\")\n",
    "\n",
    "            links.extend([BASE_URL+link.find('a', class_=\"mini__article-link\")['href'] for link in main_content])\n",
    "            days.extend([link.find('div', class_='article__meta').text.split(\",\")[0] for link in main_content])\n",
    "        elif resp.status_code != 404:\n",
    "            time.sleep(60) # 1 minute\n",
    "except Exception as e:\n",
    "    print(e)"
   ]
  },
  {
   "cell_type": "code",
   "execution_count": 45,
   "id": "9775c425",
   "metadata": {},
   "outputs": [
    {
     "data": {
      "text/plain": [
       "4600"
      ]
     },
     "execution_count": 45,
     "metadata": {},
     "output_type": "execute_result"
    }
   ],
   "source": [
    "len(links)"
   ]
  },
  {
   "cell_type": "code",
   "execution_count": 47,
   "id": "7458856e",
   "metadata": {},
   "outputs": [
    {
     "name": "stdout",
     "output_type": "stream",
     "text": [
      "'NoneType' object has no attribute 'find'\n"
     ]
    }
   ],
   "source": [
    "try:\n",
    "    results = []\n",
    "\n",
    "#     today_news = filter_today_news()\n",
    "\n",
    "    for link in links:\n",
    "        resp = requests.get(link)\n",
    "\n",
    "        if resp.status_code == 200:\n",
    "            data = resp.text\n",
    "            soup = bs4.BeautifulSoup(data)\n",
    "            title = soup.find('div', class_=\"inner__article-info border\").find('h1').text\n",
    "            content = soup.find('div', class_='default__section border').find_all(\"p\")\n",
    "\n",
    "            results.append({\n",
    "                            \"title\": title.strip(),\n",
    "                            \"content\": \" \".join([p.text for p in content])\n",
    "                        })\n",
    "\n",
    "\n",
    "        elif resp.status_code != 404:\n",
    "            print(\"404\")\n",
    "            time.sleep(60) # 1 minute\n",
    "\n",
    "except Exception as e:\n",
    "    print(e)"
   ]
  },
  {
   "cell_type": "code",
   "execution_count": 48,
   "id": "1f4abed4",
   "metadata": {},
   "outputs": [],
   "source": [
    "df = pd.DataFrame(results)"
   ]
  },
  {
   "cell_type": "code",
   "execution_count": 49,
   "id": "805dcc43",
   "metadata": {},
   "outputs": [],
   "source": [
    "df.to_pickle(\"../MainFiles/inFiles/inFiles/inFiles/2705-2707Daryo.pickle\")"
   ]
  },
  {
   "cell_type": "code",
   "execution_count": null,
   "id": "ef7e70e9",
   "metadata": {},
   "outputs": [],
   "source": []
  }
 ],
 "metadata": {
  "kernelspec": {
   "display_name": "Python 3",
   "language": "python",
   "name": "python3"
  },
  "language_info": {
   "codemirror_mode": {
    "name": "ipython",
    "version": 3
   },
   "file_extension": ".py",
   "mimetype": "text/x-python",
   "name": "python",
   "nbconvert_exporter": "python",
   "pygments_lexer": "ipython3",
   "version": "3.8.10"
  }
 },
 "nbformat": 4,
 "nbformat_minor": 5
}
