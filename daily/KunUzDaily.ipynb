{
 "cells": [
  {
   "cell_type": "code",
   "execution_count": 1,
   "id": "816898fd",
   "metadata": {},
   "outputs": [],
   "source": [
    "import aiohttp\n",
    "import asyncio\n",
    "import bs4\n",
    "import datetime\n",
    "from io import BytesIO\n",
    "import os.path\n",
    "import pandas as pd\n",
    "import PyPDF2\n",
    "import requests\n",
    "from tqdm.contrib.telegram import tqdm\n",
    "\n",
    "from pdfminer.high_level import extract_pages\n",
    "from pdfminer.layout import LTTextContainer, LTChar, LTTextLineHorizontal\n",
    "from PyPDF2 import PdfReader\n",
    "\n",
    "from urllib.parse import unquote\n",
    "# from transliterate import to_latin\n",
    "import os\n",
    "\n",
    "import time\n",
    "from datetime import datetime\n",
    "import pytz\n",
    "import logging\n",
    "\n"
   ]
  },
  {
   "cell_type": "code",
   "execution_count": null,
   "id": "37381f7f",
   "metadata": {},
   "outputs": [],
   "source": []
  },
  {
   "cell_type": "code",
   "execution_count": 2,
   "id": "64d1141e",
   "metadata": {},
   "outputs": [],
   "source": [
    "TOKEN = os.getenv('TOKEN')\n",
    "CHAT_ID = os.getenv('CHAT_ID')"
   ]
  },
  {
   "cell_type": "code",
   "execution_count": 3,
   "id": "04c8f97f",
   "metadata": {},
   "outputs": [],
   "source": [
    "NEWS_URL = \"https://kun.uz/uz/news/list?f=latest&next={unix_time}\""
   ]
  },
  {
   "cell_type": "code",
   "execution_count": 4,
   "id": "021f79f5",
   "metadata": {},
   "outputs": [],
   "source": [
    "BASE_URL = \"https://kun.uz\" "
   ]
  },
  {
   "cell_type": "code",
   "execution_count": 5,
   "id": "07f4bac7",
   "metadata": {},
   "outputs": [],
   "source": [
    "def get_utc(hour, minute):\n",
    "\n",
    "    utc = int(datetime(datetime.now().year, datetime.now().month, datetime.now().day, int(hour), int(minute)).timestamp()) - (5 * 3600)\n",
    "    \n",
    "    return utc"
   ]
  },
  {
   "cell_type": "code",
   "execution_count": 6,
   "id": "ed94b1df",
   "metadata": {},
   "outputs": [],
   "source": [
    "# global_links = []\n",
    "# global_dates = []\n",
    "\n",
    "\n",
    "def daily_scrapping_urls(unix_time,links=[],dates=[]):\n",
    "    while True:\n",
    "        try:\n",
    "            resp = requests.get(NEWS_URL.format(unix_time=unix_time))\n",
    "            if resp.status_code == 200:\n",
    "                data = resp.text\n",
    "                soup = bs4.BeautifulSoup(data)\n",
    "                selected_links = soup.find('div', class_='daily-news max-w').find_all('a')\n",
    "                \n",
    "\n",
    "                links.extend([BASE_URL+link['href'] for link in selected_links])\n",
    "                dates.extend([link.find('p', class_=\"news-date\").text for link in selected_links])\n",
    "\n",
    "\n",
    "                dates1 = [\"24:00\"] + dates\n",
    "\n",
    "                for i in range(len(dates)):\n",
    "                    if dates1[i] < dates[i]:\n",
    "#                         print(dates1[i], dates[i], i)\n",
    "                        return ([links, dates], i)\n",
    "\n",
    "                hour, minute = dates[-1].split(\":\")\n",
    "                utc = get_utc(hour, minute)\n",
    "                return daily_scrapping_urls(utc,links,dates)\n",
    "            elif resp.status_code != 404:\n",
    "                time.sleep(60) # 1 minute\n",
    "        except Exception as e:\n",
    "            print(e)"
   ]
  },
  {
   "cell_type": "code",
   "execution_count": 7,
   "id": "08822243",
   "metadata": {},
   "outputs": [],
   "source": [
    "def daily_scrapping_news():\n",
    "    try:\n",
    "        results = []\n",
    "\n",
    "        unix_time = int(time.time()) \n",
    "        values = daily_scrapping_urls(unix_time)\n",
    "\n",
    "        values = {\"links\":values[0][0][:values[1]], \"dates\":values[0][1][:values[1]]}\n",
    "\n",
    "\n",
    "\n",
    "        for link in values['links']:\n",
    "            resp = requests.get(link)\n",
    "\n",
    "            if resp.status_code == 200:\n",
    "                data = resp.text\n",
    "                soup = bs4.BeautifulSoup(data)\n",
    "                title = soup.find('h1', class_='single-header__title').text\n",
    "                content = soup.find('div', class_='single-content').text\n",
    "\n",
    "                results.append({\n",
    "                                \"title\": title.strip(),\n",
    "                                \"content\": content.strip()\n",
    "                            })\n",
    "\n",
    "\n",
    "            elif resp.status_code != 404:\n",
    "                print(\"404\")\n",
    "                time.sleep(60) # 1 minute\n",
    "\n",
    "        return results\n",
    "    except Exception as e:\n",
    "        print(e)"
   ]
  },
  {
   "cell_type": "code",
   "execution_count": 8,
   "id": "999f0d68",
   "metadata": {},
   "outputs": [],
   "source": [
    "def get_values_df():\n",
    "    values = daily_scrapping_news()\n",
    "    return pd.DataFrame(values)"
   ]
  },
  {
   "cell_type": "code",
   "execution_count": 9,
   "id": "b07eadb5",
   "metadata": {},
   "outputs": [],
   "source": [
    "def update_df():\n",
    "    try:\n",
    "        path = './DailyKunUz.pickle'\n",
    "        check_file = os.path.exists(path)\n",
    "        if check_file:\n",
    "            df = pd.read_pickle(path)\n",
    "        else:\n",
    "            df = pd.DataFrame()\n",
    "\n",
    "        current_date = datetime.now(pytz.timezone('Asia/Tashkent'))\n",
    "\n",
    "        adding_df = get_values_df()\n",
    "        adding_df.to_pickle(f'daily pickles/{current_date.day}-{current_date.month}-{current_date.year}-kunuz.pickle')\n",
    "\n",
    "        df = pd.concat([df, adding_df], axis=0, ignore_index=True)\n",
    "        df.to_pickle(path)\n",
    "\n",
    "        logging.basicConfig(filename='scheduler.log', filemode='a', format='%(name)s - %(levelname)s - %(message)s')\n",
    "        logging.getLogger().setLevel(logging.INFO)\n",
    "        logging.info(f\"KUN.uz {current_date} COMPLETE!\")\n",
    "\n",
    "        print(current_date, \"COMPLETE!\")\n",
    "    except Exception as e:\n",
    "        print(e)"
   ]
  },
  {
   "cell_type": "code",
   "execution_count": null,
   "id": "99abb320",
   "metadata": {},
   "outputs": [],
   "source": [
    "# Schedule Library imported\n",
    "import schedule\n",
    "import time\n",
    "\n",
    "\n",
    "schedule.every().day.at(\"18:58\").do(update_df) # 23:58 UTC+5\n",
    "\n",
    "# Loop so that the scheduling task\n",
    "# keeps on running all time.\n",
    "while True:\n",
    " \n",
    "    # Checks whether a scheduled task\n",
    "    # is pending to run or not\n",
    "    schedule.run_pending()\n",
    "    time.sleep(1)"
   ]
  },
  {
   "cell_type": "code",
   "execution_count": null,
   "id": "5ef982f4",
   "metadata": {},
   "outputs": [],
   "source": []
  },
  {
   "cell_type": "code",
   "execution_count": null,
   "id": "74d6f56e",
   "metadata": {},
   "outputs": [],
   "source": []
  },
  {
   "cell_type": "code",
   "execution_count": null,
   "id": "1d091d42",
   "metadata": {},
   "outputs": [],
   "source": []
  },
  {
   "cell_type": "code",
   "execution_count": null,
   "id": "38fe732c",
   "metadata": {},
   "outputs": [],
   "source": []
  },
  {
   "cell_type": "markdown",
   "id": "a86fb5f2",
   "metadata": {},
   "source": [
    "# DIPLOM "
   ]
  },
  {
   "cell_type": "code",
   "execution_count": null,
   "id": "4b4f42e3",
   "metadata": {},
   "outputs": [],
   "source": []
  },
  {
   "cell_type": "code",
   "execution_count": 48,
   "id": "28333721",
   "metadata": {},
   "outputs": [],
   "source": [
    "diplom = [[66, 3], [95, 5], [168, 5], [143, 5], [446, 5], [64, 5], [142, 4], [128, 5], [68, 5], [204, 4], [104, 5], [128, 5], [271, 5], \n",
    "          [271, 5], [271, 5], [71, 5], [335, 5], [414, 5], [316, 4], [145, 5], [78, 4], [78, 5], [150, 4], [52,4], [271, 5], [142, 4], \n",
    "          [71, 5], [120, 4], [412, 4], [343, 5], [271, 5], [143, 5], [143, 5], [107, 4], [271, 5], [356, 5]]"
   ]
  },
  {
   "cell_type": "code",
   "execution_count": 49,
   "id": "bec01f90",
   "metadata": {},
   "outputs": [],
   "source": [
    "practice = [[756, 4], [324, 5], [432, 5], [1188, 4]]"
   ]
  },
  {
   "cell_type": "code",
   "execution_count": 50,
   "id": "556a2184",
   "metadata": {},
   "outputs": [],
   "source": [
    "diplom1 = diplom+practice"
   ]
  },
  {
   "cell_type": "code",
   "execution_count": 51,
   "id": "ac4f5afd",
   "metadata": {
    "collapsed": true
   },
   "outputs": [
    {
     "data": {
      "text/plain": [
       "[[66, 3],\n",
       " [95, 5],\n",
       " [168, 5],\n",
       " [143, 5],\n",
       " [446, 5],\n",
       " [64, 5],\n",
       " [142, 4],\n",
       " [128, 5],\n",
       " [68, 5],\n",
       " [204, 4],\n",
       " [104, 5],\n",
       " [128, 5],\n",
       " [271, 5],\n",
       " [271, 5],\n",
       " [271, 5],\n",
       " [71, 5],\n",
       " [335, 5],\n",
       " [414, 5],\n",
       " [316, 4],\n",
       " [145, 5],\n",
       " [78, 4],\n",
       " [78, 5],\n",
       " [150, 4],\n",
       " [52, 4],\n",
       " [271, 5],\n",
       " [142, 4],\n",
       " [71, 5],\n",
       " [120, 4],\n",
       " [412, 4],\n",
       " [343, 5],\n",
       " [271, 5],\n",
       " [143, 5],\n",
       " [143, 5],\n",
       " [107, 4],\n",
       " [271, 5],\n",
       " [356, 5],\n",
       " [756, 4],\n",
       " [324, 5],\n",
       " [432, 5],\n",
       " [1188, 4]]"
      ]
     },
     "execution_count": 51,
     "metadata": {},
     "output_type": "execute_result"
    }
   ],
   "source": [
    "diplom1"
   ]
  },
  {
   "cell_type": "code",
   "execution_count": 63,
   "id": "d7014797",
   "metadata": {},
   "outputs": [],
   "source": [
    "a = 0"
   ]
  },
  {
   "cell_type": "code",
   "execution_count": 64,
   "id": "dca10921",
   "metadata": {},
   "outputs": [],
   "source": [
    "for mark in diplom1:\n",
    "    a += (mark[1] -1) * mark[0]"
   ]
  },
  {
   "cell_type": "code",
   "execution_count": 65,
   "id": "816b48c6",
   "metadata": {},
   "outputs": [],
   "source": [
    "b = sum([mark[0] for mark in diplom1])"
   ]
  },
  {
   "cell_type": "code",
   "execution_count": 66,
   "id": "99fb8190",
   "metadata": {},
   "outputs": [
    {
     "data": {
      "text/plain": [
       "(34433, 9558)"
      ]
     },
     "execution_count": 66,
     "metadata": {},
     "output_type": "execute_result"
    }
   ],
   "source": [
    "a, b"
   ]
  },
  {
   "cell_type": "code",
   "execution_count": 67,
   "id": "e9a9ea58",
   "metadata": {},
   "outputs": [
    {
     "data": {
      "text/plain": [
       "3.602531910441515"
      ]
     },
     "execution_count": 67,
     "metadata": {},
     "output_type": "execute_result"
    }
   ],
   "source": [
    "a/b"
   ]
  },
  {
   "cell_type": "code",
   "execution_count": null,
   "id": "f8583ab4",
   "metadata": {},
   "outputs": [],
   "source": []
  }
 ],
 "metadata": {
  "kernelspec": {
   "display_name": "Python 3",
   "language": "python",
   "name": "python3"
  },
  "language_info": {
   "codemirror_mode": {
    "name": "ipython",
    "version": 3
   },
   "file_extension": ".py",
   "mimetype": "text/x-python",
   "name": "python",
   "nbconvert_exporter": "python",
   "pygments_lexer": "ipython3",
   "version": "3.8.10"
  }
 },
 "nbformat": 4,
 "nbformat_minor": 5
}
