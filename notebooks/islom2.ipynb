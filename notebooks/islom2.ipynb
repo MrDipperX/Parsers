{
 "cells": [
  {
   "cell_type": "code",
   "execution_count": 1,
   "id": "f975238c",
   "metadata": {},
   "outputs": [],
   "source": [
    "import aiohttp\n",
    "import asyncio\n",
    "import bs4\n",
    "import datetime\n",
    "from io import BytesIO\n",
    "import pandas as pd\n",
    "import PyPDF2\n",
    "import requests\n",
    "import time\n",
    "from tqdm.contrib.telegram import tqdm\n",
    "from transliterate import to_latin\n",
    "import json\n",
    "import os"
   ]
  },
  {
   "cell_type": "code",
   "execution_count": 2,
   "id": "955b49d2",
   "metadata": {},
   "outputs": [],
   "source": [
    "tqdm.pandas()"
   ]
  },
  {
   "cell_type": "code",
   "execution_count": 3,
   "id": "29c74a1f",
   "metadata": {},
   "outputs": [],
   "source": [
    "TOKEN = os.getenv(\"TOKEN\")\n",
    "CHAT_ID = os.getenv(\"CHAT_ID\")"
   ]
  },
  {
   "cell_type": "code",
   "execution_count": 4,
   "id": "fac97093",
   "metadata": {},
   "outputs": [],
   "source": [
    "BASE_URL = \"https://islom.uz\""
   ]
  },
  {
   "cell_type": "code",
   "execution_count": 5,
   "id": "a4e91ca7",
   "metadata": {},
   "outputs": [],
   "source": [
    "main_link = \"https://islom.uz/maqolalar/6/1\""
   ]
  },
  {
   "cell_type": "code",
   "execution_count": null,
   "id": "8e86ff9a",
   "metadata": {},
   "outputs": [],
   "source": []
  },
  {
   "cell_type": "code",
   "execution_count": 6,
   "id": "0f9d0b2b",
   "metadata": {},
   "outputs": [],
   "source": [
    "links = []"
   ]
  },
  {
   "cell_type": "code",
   "execution_count": 7,
   "id": "a395a6ad",
   "metadata": {},
   "outputs": [],
   "source": [
    "async def main():\n",
    "    async with aiohttp.ClientSession() as session:\n",
    "        \n",
    "        for menu in tqdm(navbar_links, token=TOKEN, chat_id=CHAT_ID):\n",
    "            for page in tqdm(range(2500), token=TOKEN, chat_id=CHAT_ID):\n",
    "                try:   \n",
    "                    async with session.get(menu.format(page=page)) as resp:\n",
    "                        if resp.status == 200:\n",
    "                            data = await resp.text()\n",
    "                            soup = bs4.BeautifulSoup(data)\n",
    "                            selected_links = soup.find('div', class_='col-7 in_block category_body').find_all('div', class_=\"col-6 smilar_state\")\n",
    "                            links.extend([BASE_URL+link.find('a')['href'] for link in selected_links])\n",
    "                        elif resp.status == 500:\n",
    "                            break\n",
    "                        elif resp.status != 404:\n",
    "                            await asyncio.sleep(60) # 1 minute\n",
    "\n",
    "                except Exception as e:\n",
    "                    print(e, \"page_num\", page)\n"
   ]
  },
  {
   "cell_type": "code",
   "execution_count": null,
   "id": "55dbeab0",
   "metadata": {},
   "outputs": [],
   "source": [
    "await main()"
   ]
  },
  {
   "cell_type": "code",
   "execution_count": null,
   "id": "fcb324d5",
   "metadata": {},
   "outputs": [],
   "source": []
  },
  {
   "cell_type": "code",
   "execution_count": null,
   "id": "f010545d",
   "metadata": {},
   "outputs": [],
   "source": []
  },
  {
   "cell_type": "code",
   "execution_count": null,
   "id": "b28117f1",
   "metadata": {},
   "outputs": [],
   "source": [
    "results = []\n",
    "\n",
    "async def main():\n",
    "    async with aiohttp.ClientSession() as session:\n",
    "\n",
    "        for link in tqdm(links, token=TOKEN, chat_id=CHAT_ID):\n",
    "            try:\n",
    "                async with session.get(link) as resp:\n",
    "                    if resp.status == 200:\n",
    "                        data = await resp.text()\n",
    "                        soup = bs4.BeautifulSoup(data)\n",
    "                        \n",
    "                        main_block = soup.find('div', class_=\"col-7 in_block category_body\")\n",
    "                        \n",
    "                        title = main_block.find('h3', class_=\"title_inmaqola\").text\n",
    "\n",
    "                        content = main_block.find('div', class_=\"inmaqola_text\").text\n",
    "                        \n",
    "                        results.append({\n",
    "                            \"title\": title.strip(),\n",
    "                            \"content\": content.strip()\n",
    "                        })\n",
    "                    elif resp.status != 404:\n",
    "                        await asyncio.sleep(60)\n",
    "            except Exception as e:\n",
    "                print(e, link)\n",
    "    \n",
    "await main()"
   ]
  },
  {
   "cell_type": "code",
   "execution_count": null,
   "id": "56c6ecd2",
   "metadata": {},
   "outputs": [],
   "source": [
    "pd.DataFrame(results).to_pickle(\"islomuz\")"
   ]
  },
  {
   "cell_type": "code",
   "execution_count": null,
   "id": "23d0e92b",
   "metadata": {},
   "outputs": [],
   "source": []
  },
  {
   "cell_type": "markdown",
   "id": "f1258783",
   "metadata": {},
   "source": [
    "# Filtering text"
   ]
  },
  {
   "cell_type": "code",
   "execution_count": 8,
   "id": "45471225",
   "metadata": {},
   "outputs": [],
   "source": [
    "def filter_text(text):\n",
    "    texts = text.split(\".\")\n",
    "    \n",
    "    for i, t in enumerate(texts):\n",
    "        for char in t:\n",
    "            if ord(char)> 122:\n",
    "                texts[i] = \"\"\n",
    "                break\n",
    "        \n",
    "    \n",
    "    texts = [text for text in texts if text != \"\"]\n",
    "    \n",
    "    return \".\".join(texts)"
   ]
  },
  {
   "cell_type": "code",
   "execution_count": 9,
   "id": "741ed878",
   "metadata": {},
   "outputs": [],
   "source": [
    "def replace_values(text):\n",
    "    replaces = {\"ʹ\" : \"'\", \"ʺ\" : '\"', \"ʻ\" : \"'\", \"ʼ\" : \"'\", \"ʽ\" : \"'\", 'ˮ' : '\"',  \"`\":\"'\", \"‘\":\"'\", \n",
    "                \"’\":\"'\", \"‚\":\",\", \"‛\":\"'\", '“':'\"', '”':'\"', '“':'\"', '„':',', '‟': '\"', \"․\": \".\", \"‥\":'.', \"…\":\".\", \"′\":\"'\",\n",
    "               \"″\":'\"', '‴':'\"', \"«\":'\"', \"»\":'\"', \"ʼ\":\"'\", \"ʻ\":\"'\", \"\\xa0\":\"\"}\n",
    "    \n",
    "    for i,j in replaces.items():\n",
    "        text = text.replace(i, j)\n",
    "    return text"
   ]
  },
  {
   "cell_type": "code",
   "execution_count": null,
   "id": "16dd3dcc",
   "metadata": {},
   "outputs": [],
   "source": [
    "df = pd.DataFrame(results)"
   ]
  },
  {
   "cell_type": "code",
   "execution_count": null,
   "id": "e6cfe425",
   "metadata": {},
   "outputs": [],
   "source": [
    "df2 = df.copy()"
   ]
  },
  {
   "cell_type": "code",
   "execution_count": null,
   "id": "30f71a6d",
   "metadata": {},
   "outputs": [],
   "source": [
    "df2['title'] = df2['title'].progress_apply(lambda x: to_latin(x))\n",
    "\n",
    "df2['content'] = df2['content'].progress_apply(lambda x: to_latin(x))"
   ]
  },
  {
   "cell_type": "code",
   "execution_count": null,
   "id": "ffba0f3c",
   "metadata": {},
   "outputs": [],
   "source": [
    "df3 = df2.copy()"
   ]
  },
  {
   "cell_type": "code",
   "execution_count": null,
   "id": "82bf32f2",
   "metadata": {},
   "outputs": [],
   "source": [
    "df3['content'] = df3['content'].progress_apply(lambda x: replace_values(x))"
   ]
  },
  {
   "cell_type": "code",
   "execution_count": null,
   "id": "8414399f",
   "metadata": {},
   "outputs": [],
   "source": [
    "df3['content'] = df3['content'].progress_apply(lambda x: filter_text(x))"
   ]
  },
  {
   "cell_type": "code",
   "execution_count": null,
   "id": "2c233e55",
   "metadata": {},
   "outputs": [],
   "source": [
    "df3.to_pickle('islomuz2.pickle')"
   ]
  },
  {
   "cell_type": "code",
   "execution_count": null,
   "id": "069c404e",
   "metadata": {},
   "outputs": [],
   "source": []
  }
 ],
 "metadata": {
  "kernelspec": {
   "display_name": "Python 3",
   "language": "python",
   "name": "python3"
  },
  "language_info": {
   "codemirror_mode": {
    "name": "ipython",
    "version": 3
   },
   "file_extension": ".py",
   "mimetype": "text/x-python",
   "name": "python",
   "nbconvert_exporter": "python",
   "pygments_lexer": "ipython3",
   "version": "3.8.10"
  }
 },
 "nbformat": 4,
 "nbformat_minor": 5
}