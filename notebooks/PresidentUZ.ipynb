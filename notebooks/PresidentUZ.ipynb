{
 "cells": [
  {
   "cell_type": "code",
   "execution_count": 1,
   "id": "e10a6f03-903d-4948-b1c3-dcdf14af09da",
   "metadata": {
    "tags": []
   },
   "outputs": [],
   "source": [
    "import aiohttp\n",
    "import asyncio\n",
    "import bs4\n",
    "import datetime\n",
    "from io import BytesIO\n",
    "import pandas as pd\n",
    "import PyPDF2\n",
    "import requests\n",
    "import time\n",
    "from tqdm.contrib.telegram import tqdm\n",
    "from transliterate import to_latin\n",
    "import json\n",
    "import os"
   ]
  },
  {
   "cell_type": "code",
   "execution_count": 2,
   "id": "e60e6817-0f9d-4ba7-9cae-68401d692336",
   "metadata": {
    "tags": []
   },
   "outputs": [],
   "source": [
    "TOKEN = os.getenv(\"TOKEN\")\n",
    "CHAT_ID = os.getenv(\"CHAT_ID\")"
   ]
  },
  {
   "cell_type": "code",
   "execution_count": 3,
   "id": "96f822e8-abc6-40db-bbbe-ef8e701a6210",
   "metadata": {
    "tags": []
   },
   "outputs": [],
   "source": [
    "NEWS_URL = \"https://president.uz/uz/lists/news?menu_id=12&page={page}&per-page=15\" #1250\n",
    "NEWS_LAST = 300\n",
    "\n",
    "MEETING_URL = \"https://president.uz/uz/lists/category/47?menu_id=12&page={page}&per-page=15\"\n",
    "MEETING_LAST = 41\n",
    "\n",
    "FLY_URL = \"https://president.uz/uz/lists/category/8?menu_id=12&page={page}&per-page=15\"\n",
    "FLY_LAST = 39\n",
    "\n",
    "DELEG_URL = \"https://president.uz/uz/lists/category/9?menu_id=12&page={page}&per-page=15\"\n",
    "DELEG_LAST = 35\n",
    "\n",
    "CONGR_URL = \"https://president.uz/uz/lists/category/7?menu_id=12&page={page}&per-page=15\"\n",
    "CONGR_LAST = 31\n",
    "\n",
    "RULES_URL = \"https://president.uz/uz/site/document/2?menu_id=144&page={page}&per-page=15\"\n",
    "RULES_LAST = 31\n",
    "\n",
    "RULES2_URL = \"https://president.uz/uz/site/document/1?menu_id=144&page=10&per-page=15\"\n",
    "RULES2_LAST = 52"
   ]
  },
  {
   "cell_type": "code",
   "execution_count": 4,
   "id": "2a183de7",
   "metadata": {},
   "outputs": [],
   "source": [
    "URLS = [[NEWS_URL, NEWS_LAST], [MEETING_URL, MEETING_LAST], [FLY_URL, FLY_LAST], \n",
    "        [DELEG_URL, DELEG_LAST], [CONGR_URL, CONGR_LAST], [RULES_URL, RULES_LAST], [RULES2_URL, RULES2_LAST]]"
   ]
  },
  {
   "cell_type": "code",
   "execution_count": 5,
   "id": "e849fdc9-def2-4455-ae17-b72e0237b358",
   "metadata": {
    "tags": []
   },
   "outputs": [],
   "source": [
    "BASE_URL = \"https://president.uz\""
   ]
  },
  {
   "cell_type": "code",
   "execution_count": 17,
   "id": "cb9e3dc4-c994-4d29-bd63-dbb62be254b1",
   "metadata": {
    "tags": []
   },
   "outputs": [
    {
     "name": "stdout",
     "output_type": "stream",
     "text": [
      "Ўзбекистон Республикаси Президенти Шавкат Мирзиёевнинг Арманистон Республикаси Бош вазири Никол Пашинян билан 12 июль куни бўлиб ўтган телефон орқали мулоқотида икки томонлама муносабатларни, энг аввало, савдо-иқтисодий ва маданий-гуманитар соҳаларда ривожлантириш масалалари кўриб чиқилди.\n",
      "Арманистон ҳукумати раҳбари мамлакатимиз етакчисини Президент сайловидаги ишончли ғалабаси билан табриклаб, катта муваффақиятлар ва бахт-саодат тилади.\n",
      "Суҳбатда амалий ҳамкорлик лойиҳаларини илгари суриш мақсадида Ҳукуматлараро комиссиянинг биринчи йиғилиши ҳамда қўшма ишбилармонлик тадбирларини ўтказиш муҳимлиги алоҳида таъкидланди.\n"
     ]
    }
   ],
   "source": [
    "from bs4 import BeautifulSoup\n",
    "\n",
    "url = 'https://president.uz/uz/lists/view/6479'\n",
    "response = requests.get(url)\n",
    "soup = BeautifulSoup(response.text, 'lxml')\n",
    "content = soup.find('div', class_=\"status_box_second\").find_all('p')\n",
    "\n",
    "# print(content)\n",
    "\n",
    "for i in content[1:]:\n",
    "    print(i.text)"
   ]
  },
  {
   "cell_type": "code",
   "execution_count": 6,
   "id": "80dddd3a",
   "metadata": {},
   "outputs": [],
   "source": [
    "links = []"
   ]
  },
  {
   "cell_type": "code",
   "execution_count": 7,
   "id": "5bc595bc-7b2c-47fb-adb5-33e9a5e8987f",
   "metadata": {
    "tags": []
   },
   "outputs": [
    {
     "data": {
      "application/vnd.jupyter.widget-view+json": {
       "model_id": "4952388f27044746a5375cf728b3ae85",
       "version_major": 2,
       "version_minor": 0
      },
      "text/plain": [
       "  0%|          | 0/300 [00:00<?, ?it/s]"
      ]
     },
     "metadata": {},
     "output_type": "display_data"
    },
    {
     "data": {
      "application/vnd.jupyter.widget-view+json": {
       "model_id": "2eff2f34fbd14b6680ca2315b0d45063",
       "version_major": 2,
       "version_minor": 0
      },
      "text/plain": [
       "  0%|          | 0/41 [00:00<?, ?it/s]"
      ]
     },
     "metadata": {},
     "output_type": "display_data"
    },
    {
     "data": {
      "application/vnd.jupyter.widget-view+json": {
       "model_id": "7c794034c93f49baaf7464d3f6efa519",
       "version_major": 2,
       "version_minor": 0
      },
      "text/plain": [
       "  0%|          | 0/39 [00:00<?, ?it/s]"
      ]
     },
     "metadata": {},
     "output_type": "display_data"
    },
    {
     "data": {
      "application/vnd.jupyter.widget-view+json": {
       "model_id": "b4aae440a41d4a418c4af4133829ee63",
       "version_major": 2,
       "version_minor": 0
      },
      "text/plain": [
       "  0%|          | 0/35 [00:00<?, ?it/s]"
      ]
     },
     "metadata": {},
     "output_type": "display_data"
    },
    {
     "data": {
      "application/vnd.jupyter.widget-view+json": {
       "model_id": "80b5d04be5e94a0994a7959bdf398519",
       "version_major": 2,
       "version_minor": 0
      },
      "text/plain": [
       "  0%|          | 0/31 [00:00<?, ?it/s]"
      ]
     },
     "metadata": {},
     "output_type": "display_data"
    },
    {
     "data": {
      "application/vnd.jupyter.widget-view+json": {
       "model_id": "73d6f68acd21486abcf4c458260205fb",
       "version_major": 2,
       "version_minor": 0
      },
      "text/plain": [
       "  0%|          | 0/31 [00:00<?, ?it/s]"
      ]
     },
     "metadata": {},
     "output_type": "display_data"
    },
    {
     "data": {
      "application/vnd.jupyter.widget-view+json": {
       "model_id": "a3698d3c00574cd7bd789ba6b690dff2",
       "version_major": 2,
       "version_minor": 0
      },
      "text/plain": [
       "  0%|          | 0/52 [00:00<?, ?it/s]"
      ]
     },
     "metadata": {},
     "output_type": "display_data"
    }
   ],
   "source": [
    "async def main():\n",
    "    async with aiohttp.ClientSession() as session:\n",
    "        \n",
    "        for url in URLS:\n",
    "            URL = url[0]\n",
    "            LAST = url[1]\n",
    "            \n",
    "            for page in tqdm(range(1, LAST+1), token=TOKEN, chat_id=CHAT_ID):\n",
    "                try:\n",
    "                    async with session.get(URL.format(page=page)) as resp:\n",
    "                        if resp.status == 200:\n",
    "                            data = await resp.text()\n",
    "                            soup = bs4.BeautifulSoup(data)\n",
    "                            selected_links = soup.find('div', class_='tab-content').find_all('div', class_='news_box')\n",
    "                            links.extend([BASE_URL+link.find('a')['href'] for link in selected_links])\n",
    "                        elif resp.status != 404:\n",
    "                            await asyncio.sleep(60) # 1 minute\n",
    "                except Exception as e:\n",
    "                    print(e, \"page_num\", page)\n",
    "await main()"
   ]
  },
  {
   "cell_type": "code",
   "execution_count": null,
   "id": "cd133a3d",
   "metadata": {},
   "outputs": [],
   "source": []
  },
  {
   "cell_type": "code",
   "execution_count": 9,
   "id": "164f661f",
   "metadata": {},
   "outputs": [
    {
     "name": "stdout",
     "output_type": "stream",
     "text": [
      "Done\n"
     ]
    }
   ],
   "source": [
    "with open(r'./HelperFiles/presidentuz.txt', 'w') as fp:\n",
    "    for item in links:\n",
    "        # write each item on a new line\n",
    "        fp.write(\"%s\\n\" % item)\n",
    "    print('Done')"
   ]
  },
  {
   "cell_type": "code",
   "execution_count": 8,
   "id": "86058941-92e2-43fe-85e6-3d574a66dea2",
   "metadata": {
    "tags": []
   },
   "outputs": [
    {
     "data": {
      "text/plain": [
       "7904"
      ]
     },
     "execution_count": 8,
     "metadata": {},
     "output_type": "execute_result"
    }
   ],
   "source": [
    "len(links)"
   ]
  },
  {
   "cell_type": "code",
   "execution_count": 31,
   "id": "36b9b550",
   "metadata": {},
   "outputs": [],
   "source": [
    "headers={'Accept': 'text/html'}"
   ]
  },
  {
   "cell_type": "code",
   "execution_count": 35,
   "id": "ac5222d6",
   "metadata": {},
   "outputs": [],
   "source": [
    "with open(\"proxies.json\", \"r\", encoding=\"utf-8\") as f:\n",
    "    proxies = json.load(f)"
   ]
  },
  {
   "cell_type": "code",
   "execution_count": 37,
   "id": "4bde472d",
   "metadata": {},
   "outputs": [],
   "source": [
    "proxies_ip = [proxy['ip'] for proxy in proxies]"
   ]
  },
  {
   "cell_type": "code",
   "execution_count": 38,
   "id": "54b2585e",
   "metadata": {
    "collapsed": true
   },
   "outputs": [
    {
     "data": {
      "text/plain": [
       "['208.113.220.98',\n",
       " '181.129.186.130',\n",
       " '203.143.38.249',\n",
       " '92.222.237.105',\n",
       " '138.97.0.66',\n",
       " '75.119.205.47',\n",
       " '81.12.124.38',\n",
       " '78.137.58.119',\n",
       " '213.149.103.132',\n",
       " '180.183.1.84',\n",
       " '203.176.141.166',\n",
       " '43.153.177.245',\n",
       " '103.199.97.33',\n",
       " '41.58.136.94',\n",
       " '31.206.38.49',\n",
       " '103.35.109.142',\n",
       " '189.201.191.19',\n",
       " '213.135.234.101',\n",
       " '103.36.102.182',\n",
       " '110.78.149.89',\n",
       " '38.127.179.194',\n",
       " '114.29.212.145',\n",
       " '202.144.157.1',\n",
       " '66.33.210.111',\n",
       " '104.36.7.57',\n",
       " '200.8.185.126',\n",
       " '211.144.20.13',\n",
       " '165.225.24.50',\n",
       " '201.121.249.246',\n",
       " '45.7.176.78',\n",
       " '201.65.121.66',\n",
       " '45.7.177.241',\n",
       " '116.199.170.17',\n",
       " '5.190.229.170',\n",
       " '170.150.159.18',\n",
       " '36.66.36.252',\n",
       " '81.68.156.53',\n",
       " '103.251.83.61',\n",
       " '188.120.248.106',\n",
       " '223.155.121.75',\n",
       " '155.133.83.109',\n",
       " '103.59.203.133',\n",
       " '43.134.230.127',\n",
       " '89.237.36.193',\n",
       " '212.34.239.253',\n",
       " '203.99.57.145',\n",
       " '91.187.120.12',\n",
       " '103.109.59.109',\n",
       " '202.44.228.181',\n",
       " '177.66.195.118',\n",
       " '1.0.136.60',\n",
       " '198.211.38.45',\n",
       " '185.205.249.24',\n",
       " '190.207.141.181',\n",
       " '185.162.228.128',\n",
       " '150.107.207.137',\n",
       " '203.160.57.87',\n",
       " '124.158.186.34',\n",
       " '222.221.247.114',\n",
       " '115.160.160.38',\n",
       " '49.0.113.6',\n",
       " '103.66.232.5',\n",
       " '185.172.129.13',\n",
       " '200.70.19.82',\n",
       " '129.226.92.230',\n",
       " '138.197.208.93',\n",
       " '91.224.179.175',\n",
       " '170.244.16.45',\n",
       " '41.90.242.102',\n",
       " '134.209.111.155',\n",
       " '45.7.177.251',\n",
       " '138.197.138.160',\n",
       " '38.127.179.16',\n",
       " '139.59.186.196',\n",
       " '104.23.125.117',\n",
       " '103.51.44.5',\n",
       " '105.214.70.135',\n",
       " '154.113.66.70',\n",
       " '177.128.120.85',\n",
       " '5.9.154.177',\n",
       " '45.115.115.145',\n",
       " '181.198.32.212',\n",
       " '106.75.152.204',\n",
       " '103.59.203.145',\n",
       " '170.254.255.247',\n",
       " '91.121.79.58',\n",
       " '138.36.199.14',\n",
       " '200.10.73.210',\n",
       " '103.85.67.114',\n",
       " '185.236.46.221',\n",
       " '186.251.255.13',\n",
       " '122.143.91.66',\n",
       " '75.119.204.86',\n",
       " '46.148.45.119',\n",
       " '80.191.169.69',\n",
       " '176.115.14.32',\n",
       " '113.160.203.118',\n",
       " '45.7.210.199',\n",
       " '80.80.167.246',\n",
       " '115.127.121.194']"
      ]
     },
     "execution_count": 38,
     "metadata": {},
     "output_type": "execute_result"
    }
   ],
   "source": []
  },
  {
   "cell_type": "code",
   "execution_count": 50,
   "id": "df7316b3",
   "metadata": {},
   "outputs": [],
   "source": [
    "with open('proxies.txt') as f:\n",
    "    lines = f.readlines()"
   ]
  },
  {
   "cell_type": "code",
   "execution_count": 56,
   "id": "6d0c95db",
   "metadata": {},
   "outputs": [],
   "source": [
    "proxies_ip = lines[210:]"
   ]
  },
  {
   "cell_type": "code",
   "execution_count": 57,
   "id": "77051df6-117c-4d8a-9336-1c65d894da7f",
   "metadata": {
    "collapsed": true
   },
   "outputs": [
    {
     "data": {
      "application/vnd.jupyter.widget-view+json": {
       "model_id": "60bc2a3a5e2b48eb864a77a26dbce018",
       "version_major": 2,
       "version_minor": 0
      },
      "text/plain": [
       "  0%|          | 0/7904 [00:00<?, ?it/s]"
      ]
     },
     "metadata": {},
     "output_type": "display_data"
    },
    {
     "name": "stdout",
     "output_type": "stream",
     "text": [
      "500, message='Internal Privoxy Error', url=URL('http://139.59.59.122:8118') https://president.uz/uz/lists/view/6487\n",
      "[Errno 104] Connection reset by peer https://president.uz/uz/lists/view/6486\n",
      "500, message='Internal Privoxy Error', url=URL('http://139.59.59.122:8118') https://president.uz/uz/lists/view/6485\n"
     ]
    },
    {
     "ename": "CancelledError",
     "evalue": "",
     "output_type": "error",
     "traceback": [
      "\u001B[0;31m---------------------------------------------------------------------------\u001B[0m",
      "\u001B[0;31mCancelledError\u001B[0m                            Traceback (most recent call last)",
      "Cell \u001B[0;32mIn [57], line 37\u001B[0m\n\u001B[1;32m     32\u001B[0m             \u001B[38;5;28;01mexcept\u001B[39;00m \u001B[38;5;167;01mException\u001B[39;00m \u001B[38;5;28;01mas\u001B[39;00m e:\n\u001B[1;32m     33\u001B[0m \u001B[38;5;66;03m#                 print(title)\u001B[39;00m\n\u001B[1;32m     34\u001B[0m \u001B[38;5;66;03m#                 print(content)\u001B[39;00m\n\u001B[1;32m     35\u001B[0m                 \u001B[38;5;28mprint\u001B[39m(e, link)\n\u001B[0;32m---> 37\u001B[0m \u001B[38;5;28;01mawait\u001B[39;00m main()\n",
      "Cell \u001B[0;32mIn [57], line 16\u001B[0m, in \u001B[0;36mmain\u001B[0;34m()\u001B[0m\n\u001B[1;32m     14\u001B[0m     proxy \u001B[38;5;241m=\u001B[39m proxies_ip[proxies_ip\u001B[38;5;241m.\u001B[39mindex(proxy) \u001B[38;5;241m+\u001B[39m \u001B[38;5;241m1\u001B[39m]\n\u001B[1;32m     15\u001B[0m     max_v \u001B[38;5;241m+\u001B[39m\u001B[38;5;241m=\u001B[39m \u001B[38;5;241m500\u001B[39m\n\u001B[0;32m---> 16\u001B[0m \u001B[38;5;28;01masync\u001B[39;00m \u001B[38;5;28;01mwith\u001B[39;00m session\u001B[38;5;241m.\u001B[39mget(link, proxy\u001B[38;5;241m=\u001B[39m\u001B[38;5;124mf\u001B[39m\u001B[38;5;124m\"\u001B[39m\u001B[38;5;124mhttp://\u001B[39m\u001B[38;5;132;01m{\u001B[39;00mproxy\u001B[38;5;132;01m}\u001B[39;00m\u001B[38;5;124m\"\u001B[39m, proxy_auth\u001B[38;5;241m=\u001B[39mproxy_auth) \u001B[38;5;28;01mas\u001B[39;00m resp:\n\u001B[1;32m     17\u001B[0m     \u001B[38;5;28;01mif\u001B[39;00m resp\u001B[38;5;241m.\u001B[39mstatus \u001B[38;5;241m==\u001B[39m \u001B[38;5;241m200\u001B[39m:\n\u001B[1;32m     18\u001B[0m         data \u001B[38;5;241m=\u001B[39m \u001B[38;5;28;01mawait\u001B[39;00m resp\u001B[38;5;241m.\u001B[39mtext()\n",
      "File \u001B[0;32m/usr/local/lib/python3.8/dist-packages/aiohttp/client.py:1141\u001B[0m, in \u001B[0;36m_BaseRequestContextManager.__aenter__\u001B[0;34m(self)\u001B[0m\n\u001B[1;32m   1140\u001B[0m \u001B[38;5;28;01masync\u001B[39;00m \u001B[38;5;28;01mdef\u001B[39;00m \u001B[38;5;21m__aenter__\u001B[39m(\u001B[38;5;28mself\u001B[39m) \u001B[38;5;241m-\u001B[39m\u001B[38;5;241m>\u001B[39m _RetType:\n\u001B[0;32m-> 1141\u001B[0m     \u001B[38;5;28mself\u001B[39m\u001B[38;5;241m.\u001B[39m_resp \u001B[38;5;241m=\u001B[39m \u001B[38;5;28;01mawait\u001B[39;00m \u001B[38;5;28mself\u001B[39m\u001B[38;5;241m.\u001B[39m_coro\n\u001B[1;32m   1142\u001B[0m     \u001B[38;5;28;01mreturn\u001B[39;00m \u001B[38;5;28mself\u001B[39m\u001B[38;5;241m.\u001B[39m_resp\n",
      "File \u001B[0;32m/usr/local/lib/python3.8/dist-packages/aiohttp/client.py:536\u001B[0m, in \u001B[0;36mClientSession._request\u001B[0;34m(self, method, str_or_url, params, data, json, cookies, headers, skip_auto_headers, auth, allow_redirects, max_redirects, compress, chunked, expect100, raise_for_status, read_until_eof, proxy, proxy_auth, timeout, verify_ssl, fingerprint, ssl_context, ssl, proxy_headers, trace_request_ctx, read_bufsize)\u001B[0m\n\u001B[1;32m    534\u001B[0m     \u001B[38;5;28;01masync\u001B[39;00m \u001B[38;5;28;01mwith\u001B[39;00m ceil_timeout(real_timeout\u001B[38;5;241m.\u001B[39mconnect):\n\u001B[1;32m    535\u001B[0m         \u001B[38;5;28;01massert\u001B[39;00m \u001B[38;5;28mself\u001B[39m\u001B[38;5;241m.\u001B[39m_connector \u001B[38;5;129;01mis\u001B[39;00m \u001B[38;5;129;01mnot\u001B[39;00m \u001B[38;5;28;01mNone\u001B[39;00m\n\u001B[0;32m--> 536\u001B[0m         conn \u001B[38;5;241m=\u001B[39m \u001B[38;5;28;01mawait\u001B[39;00m \u001B[38;5;28mself\u001B[39m\u001B[38;5;241m.\u001B[39m_connector\u001B[38;5;241m.\u001B[39mconnect(\n\u001B[1;32m    537\u001B[0m             req, traces\u001B[38;5;241m=\u001B[39mtraces, timeout\u001B[38;5;241m=\u001B[39mreal_timeout\n\u001B[1;32m    538\u001B[0m         )\n\u001B[1;32m    539\u001B[0m \u001B[38;5;28;01mexcept\u001B[39;00m asyncio\u001B[38;5;241m.\u001B[39mTimeoutError \u001B[38;5;28;01mas\u001B[39;00m exc:\n\u001B[1;32m    540\u001B[0m     \u001B[38;5;28;01mraise\u001B[39;00m ServerTimeoutError(\n\u001B[1;32m    541\u001B[0m         \u001B[38;5;124m\"\u001B[39m\u001B[38;5;124mConnection timeout \u001B[39m\u001B[38;5;124m\"\u001B[39m \u001B[38;5;124m\"\u001B[39m\u001B[38;5;124mto host \u001B[39m\u001B[38;5;132;01m{}\u001B[39;00m\u001B[38;5;124m\"\u001B[39m\u001B[38;5;241m.\u001B[39mformat(url)\n\u001B[1;32m    542\u001B[0m     ) \u001B[38;5;28;01mfrom\u001B[39;00m \u001B[38;5;21;01mexc\u001B[39;00m\n",
      "File \u001B[0;32m/usr/local/lib/python3.8/dist-packages/aiohttp/connector.py:540\u001B[0m, in \u001B[0;36mBaseConnector.connect\u001B[0;34m(self, req, traces, timeout)\u001B[0m\n\u001B[1;32m    537\u001B[0m         \u001B[38;5;28;01mawait\u001B[39;00m trace\u001B[38;5;241m.\u001B[39msend_connection_create_start()\n\u001B[1;32m    539\u001B[0m \u001B[38;5;28;01mtry\u001B[39;00m:\n\u001B[0;32m--> 540\u001B[0m     proto \u001B[38;5;241m=\u001B[39m \u001B[38;5;28;01mawait\u001B[39;00m \u001B[38;5;28mself\u001B[39m\u001B[38;5;241m.\u001B[39m_create_connection(req, traces, timeout)\n\u001B[1;32m    541\u001B[0m     \u001B[38;5;28;01mif\u001B[39;00m \u001B[38;5;28mself\u001B[39m\u001B[38;5;241m.\u001B[39m_closed:\n\u001B[1;32m    542\u001B[0m         proto\u001B[38;5;241m.\u001B[39mclose()\n",
      "File \u001B[0;32m/usr/local/lib/python3.8/dist-packages/aiohttp/connector.py:899\u001B[0m, in \u001B[0;36mTCPConnector._create_connection\u001B[0;34m(self, req, traces, timeout)\u001B[0m\n\u001B[1;32m    894\u001B[0m \u001B[38;5;124;03m\"\"\"Create connection.\u001B[39;00m\n\u001B[1;32m    895\u001B[0m \n\u001B[1;32m    896\u001B[0m \u001B[38;5;124;03mHas same keyword arguments as BaseEventLoop.create_connection.\u001B[39;00m\n\u001B[1;32m    897\u001B[0m \u001B[38;5;124;03m\"\"\"\u001B[39;00m\n\u001B[1;32m    898\u001B[0m \u001B[38;5;28;01mif\u001B[39;00m req\u001B[38;5;241m.\u001B[39mproxy:\n\u001B[0;32m--> 899\u001B[0m     _, proto \u001B[38;5;241m=\u001B[39m \u001B[38;5;28;01mawait\u001B[39;00m \u001B[38;5;28mself\u001B[39m\u001B[38;5;241m.\u001B[39m_create_proxy_connection(req, traces, timeout)\n\u001B[1;32m    900\u001B[0m \u001B[38;5;28;01melse\u001B[39;00m:\n\u001B[1;32m    901\u001B[0m     _, proto \u001B[38;5;241m=\u001B[39m \u001B[38;5;28;01mawait\u001B[39;00m \u001B[38;5;28mself\u001B[39m\u001B[38;5;241m.\u001B[39m_create_direct_connection(req, traces, timeout)\n",
      "File \u001B[0;32m/usr/local/lib/python3.8/dist-packages/aiohttp/connector.py:1275\u001B[0m, in \u001B[0;36mTCPConnector._create_proxy_connection\u001B[0;34m(self, req, traces, timeout)\u001B[0m\n\u001B[1;32m   1271\u001B[0m     \u001B[38;5;66;03m# read_until_eof=True will ensure the connection isn't closed\u001B[39;00m\n\u001B[1;32m   1272\u001B[0m     \u001B[38;5;66;03m# once the response is received and processed allowing\u001B[39;00m\n\u001B[1;32m   1273\u001B[0m     \u001B[38;5;66;03m# START_TLS to work on the connection below.\u001B[39;00m\n\u001B[1;32m   1274\u001B[0m     protocol\u001B[38;5;241m.\u001B[39mset_response_params(read_until_eof\u001B[38;5;241m=\u001B[39mruntime_has_start_tls)\n\u001B[0;32m-> 1275\u001B[0m     resp \u001B[38;5;241m=\u001B[39m \u001B[38;5;28;01mawait\u001B[39;00m proxy_resp\u001B[38;5;241m.\u001B[39mstart(conn)\n\u001B[1;32m   1276\u001B[0m \u001B[38;5;28;01mexcept\u001B[39;00m \u001B[38;5;167;01mBaseException\u001B[39;00m:\n\u001B[1;32m   1277\u001B[0m     proxy_resp\u001B[38;5;241m.\u001B[39mclose()\n",
      "File \u001B[0;32m/usr/local/lib/python3.8/dist-packages/aiohttp/client_reqrep.py:899\u001B[0m, in \u001B[0;36mClientResponse.start\u001B[0;34m(self, connection)\u001B[0m\n\u001B[1;32m    897\u001B[0m \u001B[38;5;28;01mtry\u001B[39;00m:\n\u001B[1;32m    898\u001B[0m     protocol \u001B[38;5;241m=\u001B[39m \u001B[38;5;28mself\u001B[39m\u001B[38;5;241m.\u001B[39m_protocol\n\u001B[0;32m--> 899\u001B[0m     message, payload \u001B[38;5;241m=\u001B[39m \u001B[38;5;28;01mawait\u001B[39;00m protocol\u001B[38;5;241m.\u001B[39mread()  \u001B[38;5;66;03m# type: ignore[union-attr]\u001B[39;00m\n\u001B[1;32m    900\u001B[0m \u001B[38;5;28;01mexcept\u001B[39;00m http\u001B[38;5;241m.\u001B[39mHttpProcessingError \u001B[38;5;28;01mas\u001B[39;00m exc:\n\u001B[1;32m    901\u001B[0m     \u001B[38;5;28;01mraise\u001B[39;00m ClientResponseError(\n\u001B[1;32m    902\u001B[0m         \u001B[38;5;28mself\u001B[39m\u001B[38;5;241m.\u001B[39mrequest_info,\n\u001B[1;32m    903\u001B[0m         \u001B[38;5;28mself\u001B[39m\u001B[38;5;241m.\u001B[39mhistory,\n\u001B[0;32m   (...)\u001B[0m\n\u001B[1;32m    906\u001B[0m         headers\u001B[38;5;241m=\u001B[39mexc\u001B[38;5;241m.\u001B[39mheaders,\n\u001B[1;32m    907\u001B[0m     ) \u001B[38;5;28;01mfrom\u001B[39;00m \u001B[38;5;21;01mexc\u001B[39;00m\n",
      "File \u001B[0;32m/usr/local/lib/python3.8/dist-packages/aiohttp/streams.py:616\u001B[0m, in \u001B[0;36mDataQueue.read\u001B[0;34m(self)\u001B[0m\n\u001B[1;32m    614\u001B[0m \u001B[38;5;28mself\u001B[39m\u001B[38;5;241m.\u001B[39m_waiter \u001B[38;5;241m=\u001B[39m \u001B[38;5;28mself\u001B[39m\u001B[38;5;241m.\u001B[39m_loop\u001B[38;5;241m.\u001B[39mcreate_future()\n\u001B[1;32m    615\u001B[0m \u001B[38;5;28;01mtry\u001B[39;00m:\n\u001B[0;32m--> 616\u001B[0m     \u001B[38;5;28;01mawait\u001B[39;00m \u001B[38;5;28mself\u001B[39m\u001B[38;5;241m.\u001B[39m_waiter\n\u001B[1;32m    617\u001B[0m \u001B[38;5;28;01mexcept\u001B[39;00m (asyncio\u001B[38;5;241m.\u001B[39mCancelledError, asyncio\u001B[38;5;241m.\u001B[39mTimeoutError):\n\u001B[1;32m    618\u001B[0m     \u001B[38;5;28mself\u001B[39m\u001B[38;5;241m.\u001B[39m_waiter \u001B[38;5;241m=\u001B[39m \u001B[38;5;28;01mNone\u001B[39;00m\n",
      "\u001B[0;31mCancelledError\u001B[0m: "
     ]
    }
   ],
   "source": [
    "results = []\n",
    "\n",
    "async def main():\n",
    "    async with aiohttp.ClientSession() as session:\n",
    "        proxy = proxies_ip[0]\n",
    "\n",
    "        max_v = 500\n",
    "        \n",
    "        \n",
    "        for ind, link in enumerate(tqdm(links, token=TOKEN, chat_id=CHAT_ID)):\n",
    "            try:\n",
    "                proxy_auth = aiohttp.BasicAuth('user', 'pass')\n",
    "                if ind > max_v:\n",
    "                    proxy = proxies_ip[proxies_ip.index(proxy) + 1]\n",
    "                    max_v += 500\n",
    "                async with session.get(link, proxy=f\"http://{proxy}\", proxy_auth=proxy_auth) as resp:\n",
    "                    if resp.status == 200:\n",
    "                        data = await resp.text()\n",
    "                        soup = bs4.BeautifulSoup(data)\n",
    "\n",
    "                        content = soup.find('div', class_=\"status_box_second\").find_all('p')\n",
    "                        title = soup.find('div', class_=\"pre_full_name\").text\n",
    "\n",
    "                        content = \"\".join(i.text for i in content[1:])\n",
    "                        results.append({\n",
    "                            \"title\": title.strip(),\n",
    "                            \"content\": content.strip()\n",
    "                        })\n",
    "                    elif resp.status != 404:\n",
    "#                         await asyncio.sleep(60) # 1 minute\n",
    "                        print(\"404\", link)\n",
    "            except Exception as e:\n",
    "#                 print(title)\n",
    "#                 print(content)\n",
    "                print(e, link)\n",
    "    \n",
    "await main()"
   ]
  },
  {
   "cell_type": "code",
   "execution_count": 13,
   "id": "7e222020",
   "metadata": {
    "scrolled": true
   },
   "outputs": [
    {
     "data": {
      "application/vnd.jupyter.widget-view+json": {
       "model_id": "6ec37b96f5044377b93cef268f94e263",
       "version_major": 2,
       "version_minor": 0
      },
      "text/plain": [
       "  0%|          | 0/7904 [00:00<?, ?it/s]"
      ]
     },
     "metadata": {},
     "output_type": "display_data"
    }
   ],
   "source": [
    "results = []\n",
    "\n",
    "for ind, link in enumerate(tqdm(links, token=TOKEN, chat_id=CHAT_ID)):\n",
    "    try:\n",
    "        resp = requests.get(link)\n",
    "        if resp.status_code == 200:\n",
    "            data = resp.text\n",
    "            soup = bs4.BeautifulSoup(data)\n",
    "\n",
    "            content = soup.find('div', class_=\"status_box_second\").find_all('p')\n",
    "            title = soup.find('div', class_=\"pre_full_name\").text\n",
    "\n",
    "            content = \"\".join(i.text for i in content[1:])\n",
    "            results.append({\n",
    "                \"title\": title.strip(),\n",
    "                \"content\": content.strip()\n",
    "            })\n",
    "        else:\n",
    "    #                         await asyncio.sleep(60) # 1 minute\n",
    "            print(resp.status_code, link)\n",
    "    except Exception as e:\n",
    "#                 print(title)\n",
    "#                 print(content)\n",
    "        print(e, link)\n",
    "    "
   ]
  },
  {
   "cell_type": "code",
   "execution_count": 14,
   "id": "4457738a-1ff3-499f-9e1d-1041214c1286",
   "metadata": {
    "tags": []
   },
   "outputs": [
    {
     "data": {
      "text/plain": [
       "7904"
      ]
     },
     "execution_count": 14,
     "metadata": {},
     "output_type": "execute_result"
    }
   ],
   "source": [
    "len(results)"
   ]
  },
  {
   "cell_type": "code",
   "execution_count": 20,
   "id": "66f5e76d-cb49-49ff-968c-ca06f0ee55ec",
   "metadata": {
    "tags": []
   },
   "outputs": [],
   "source": [
    "df = pd.DataFrame(results)"
   ]
  },
  {
   "cell_type": "code",
   "execution_count": 23,
   "id": "45b519b7",
   "metadata": {},
   "outputs": [
    {
     "data": {
      "text/html": [
       "<div>\n",
       "<style scoped>\n",
       "    .dataframe tbody tr th:only-of-type {\n",
       "        vertical-align: middle;\n",
       "    }\n",
       "\n",
       "    .dataframe tbody tr th {\n",
       "        vertical-align: top;\n",
       "    }\n",
       "\n",
       "    .dataframe thead th {\n",
       "        text-align: right;\n",
       "    }\n",
       "</style>\n",
       "<table border=\"1\" class=\"dataframe\">\n",
       "  <thead>\n",
       "    <tr style=\"text-align: right;\">\n",
       "      <th></th>\n",
       "      <th>title</th>\n",
       "      <th>content</th>\n",
       "    </tr>\n",
       "  </thead>\n",
       "  <tbody>\n",
       "    <tr>\n",
       "      <th>0</th>\n",
       "      <td>Ўзбекистон Президенти амалий ташриф билан Сауд...</td>\n",
       "      <td>Икки муқаддас масжид ходими – Саудия Арабистон...</td>\n",
       "    </tr>\n",
       "    <tr>\n",
       "      <th>1</th>\n",
       "      <td>Хорижий ҳамкорлардан самимий қутловлар</td>\n",
       "      <td>Ўзбекистон Республикаси Президенти Шавкат Мирз...</td>\n",
       "    </tr>\n",
       "    <tr>\n",
       "      <th>2</th>\n",
       "      <td>Ўзбекистон Республикасининг сайланган Президен...</td>\n",
       "      <td>14 июль куни Тошкентда, Ўзбекистон Республикас...</td>\n",
       "    </tr>\n",
       "    <tr>\n",
       "      <th>3</th>\n",
       "      <td>Халқимизнинг юксак ишончини оқлаш, эришган юту...</td>\n",
       "      <td>Янги сайланган Ўзбекистон Республикаси Президе...</td>\n",
       "    </tr>\n",
       "    <tr>\n",
       "      <th>4</th>\n",
       "      <td>Ўзбекистон Президенти Туркия билан фаол парлам...</td>\n",
       "      <td>Ўзбекистон Республикаси Президенти Шавкат Мирз...</td>\n",
       "    </tr>\n",
       "    <tr>\n",
       "      <th>...</th>\n",
       "      <td>...</td>\n",
       "      <td>...</td>\n",
       "    </tr>\n",
       "    <tr>\n",
       "      <th>7899</th>\n",
       "      <td>Д.М.Кенжаевни Ўзбекистон Республикаси Президен...</td>\n",
       "      <td>Дилшод Муталибович Кенжаев Ўзбекистон Республи...</td>\n",
       "    </tr>\n",
       "    <tr>\n",
       "      <th>7900</th>\n",
       "      <td>Д.А.Хидоятовни Тошкент вилояти ҳокими вазифаси...</td>\n",
       "      <td>Ўзбекистон Республикаси Конституциясининг 93-м...</td>\n",
       "    </tr>\n",
       "    <tr>\n",
       "      <th>7901</th>\n",
       "      <td>Р.Қ.Холматовни Тошкент вилояти ҳокими лавозими...</td>\n",
       "      <td>Ўзбекистон Республикаси Конституциясининг 93-м...</td>\n",
       "    </tr>\n",
       "    <tr>\n",
       "      <th>7902</th>\n",
       "      <td>Д.Б.Кадировни Ўзбекистон Республикаси Президен...</td>\n",
       "      <td>Дониёр Бахтиёрович Кадиров Ўзбекистон Республи...</td>\n",
       "    </tr>\n",
       "    <tr>\n",
       "      <th>7903</th>\n",
       "      <td>У.Ш.Ташходжаевни Ўзбекистон Республикаси Прези...</td>\n",
       "      <td>Улуғбек Шухратович Ташходжаев бошқа ишга ўтиши...</td>\n",
       "    </tr>\n",
       "  </tbody>\n",
       "</table>\n",
       "<p>7904 rows × 2 columns</p>\n",
       "</div>"
      ],
      "text/plain": [
       "                                                  title  \\\n",
       "0     Ўзбекистон Президенти амалий ташриф билан Сауд...   \n",
       "1                Хорижий ҳамкорлардан самимий қутловлар   \n",
       "2     Ўзбекистон Республикасининг сайланган Президен...   \n",
       "3     Халқимизнинг юксак ишончини оқлаш, эришган юту...   \n",
       "4     Ўзбекистон Президенти Туркия билан фаол парлам...   \n",
       "...                                                 ...   \n",
       "7899  Д.М.Кенжаевни Ўзбекистон Республикаси Президен...   \n",
       "7900  Д.А.Хидоятовни Тошкент вилояти ҳокими вазифаси...   \n",
       "7901  Р.Қ.Холматовни Тошкент вилояти ҳокими лавозими...   \n",
       "7902  Д.Б.Кадировни Ўзбекистон Республикаси Президен...   \n",
       "7903  У.Ш.Ташходжаевни Ўзбекистон Республикаси Прези...   \n",
       "\n",
       "                                                content  \n",
       "0     Икки муқаддас масжид ходими – Саудия Арабистон...  \n",
       "1     Ўзбекистон Республикаси Президенти Шавкат Мирз...  \n",
       "2     14 июль куни Тошкентда, Ўзбекистон Республикас...  \n",
       "3     Янги сайланган Ўзбекистон Республикаси Президе...  \n",
       "4     Ўзбекистон Республикаси Президенти Шавкат Мирз...  \n",
       "...                                                 ...  \n",
       "7899  Дилшод Муталибович Кенжаев Ўзбекистон Республи...  \n",
       "7900  Ўзбекистон Республикаси Конституциясининг 93-м...  \n",
       "7901  Ўзбекистон Республикаси Конституциясининг 93-м...  \n",
       "7902  Дониёр Бахтиёрович Кадиров Ўзбекистон Республи...  \n",
       "7903  Улуғбек Шухратович Ташходжаев бошқа ишга ўтиши...  \n",
       "\n",
       "[7904 rows x 2 columns]"
      ]
     },
     "execution_count": 23,
     "metadata": {},
     "output_type": "execute_result"
    }
   ],
   "source": [
    "# df"
   ]
  },
  {
   "cell_type": "code",
   "execution_count": 25,
   "id": "eecd0669",
   "metadata": {},
   "outputs": [],
   "source": [
    "from transliterate import to_latin\n",
    "\n",
    "df['title'] = df['title'].apply(lambda x: to_latin(x))\n",
    "\n",
    "df['content'] = df['content'].apply(lambda x: to_latin(x))"
   ]
  },
  {
   "cell_type": "code",
   "execution_count": 27,
   "id": "d5fb64d2-dcb2-4617-a726-17e9556cd2d0",
   "metadata": {
    "tags": []
   },
   "outputs": [
    {
     "data": {
      "text/html": [
       "<div>\n",
       "<style scoped>\n",
       "    .dataframe tbody tr th:only-of-type {\n",
       "        vertical-align: middle;\n",
       "    }\n",
       "\n",
       "    .dataframe tbody tr th {\n",
       "        vertical-align: top;\n",
       "    }\n",
       "\n",
       "    .dataframe thead th {\n",
       "        text-align: right;\n",
       "    }\n",
       "</style>\n",
       "<table border=\"1\" class=\"dataframe\">\n",
       "  <thead>\n",
       "    <tr style=\"text-align: right;\">\n",
       "      <th></th>\n",
       "      <th>title</th>\n",
       "      <th>content</th>\n",
       "    </tr>\n",
       "  </thead>\n",
       "  <tbody>\n",
       "    <tr>\n",
       "      <th>0</th>\n",
       "      <td>Namangan viloyati IIB boshligʻi huzurida Chust...</td>\n",
       "      <td>Unda Boshqarma boshligʻi oʻrinbosarlari, Boshq...</td>\n",
       "    </tr>\n",
       "    <tr>\n",
       "      <th>1</th>\n",
       "      <td>Namangan viloyati IIB Majlislar zalida Migrats...</td>\n",
       "      <td>Unda, viloyat IIB boshligʻi oʻrinbosarlari, so...</td>\n",
       "    </tr>\n",
       "    <tr>\n",
       "      <th>2</th>\n",
       "      <td>Denov tumanida tashkilotlar oʻrtasida sportnin...</td>\n",
       "      <td>Joriy yilning 15-iyul kuni Denov tumanidagi ma...</td>\n",
       "    </tr>\n",
       "    <tr>\n",
       "      <th>3</th>\n",
       "      <td>Surxondaryo viloyati IIB Migratsiya va fuqarol...</td>\n",
       "      <td>Joriy yilning 15-iyul kuni Surxondaryo viloyat...</td>\n",
       "    </tr>\n",
       "    <tr>\n",
       "      <th>4</th>\n",
       "      <td>Qumqoʻrgʻon tumani IIBda yangi “Kutubxona” foy...</td>\n",
       "      <td>2023-yil 14-iyul kuni Qumqoʻrgʻon tumani Ichki...</td>\n",
       "    </tr>\n",
       "    <tr>\n",
       "      <th>...</th>\n",
       "      <td>...</td>\n",
       "      <td>...</td>\n",
       "    </tr>\n",
       "    <tr>\n",
       "      <th>1263</th>\n",
       "      <td>“14 yanvar` – Vatan himoyachilari kuni” bayram...</td>\n",
       "      <td>Barcha joyda bo'lgani kabi O'zbekiston Respubl...</td>\n",
       "    </tr>\n",
       "    <tr>\n",
       "      <th>1264</th>\n",
       "      <td>Guliston shahrida “Profilaktika kuni” munosaba...</td>\n",
       "      <td>Guliston shahar Qurilish kasb-hunar kollejida ...</td>\n",
       "    </tr>\n",
       "    <tr>\n",
       "      <th>1265</th>\n",
       "      <td>Bir guruh ichki ishlar organlari xodimlari taq...</td>\n",
       "      <td>Ichki ishlar vazirligi tizimi xodimlarining ke...</td>\n",
       "    </tr>\n",
       "    <tr>\n",
       "      <th>1266</th>\n",
       "      <td>\"Vatanparvarlik oyligi\" davom etmoqda</td>\n",
       "      <td>IIV Akademiyasi Axborot xizmatining xabar beri...</td>\n",
       "    </tr>\n",
       "    <tr>\n",
       "      <th>1267</th>\n",
       "      <td>IIV Sirdaryo akademik litseyida huquqni muhofa...</td>\n",
       "      <td>O'zbekiston Respublikasi Ichki ishlar vazirini...</td>\n",
       "    </tr>\n",
       "  </tbody>\n",
       "</table>\n",
       "<p>1268 rows × 2 columns</p>\n",
       "</div>"
      ],
      "text/plain": [
       "                                                  title  \\\n",
       "0     Namangan viloyati IIB boshligʻi huzurida Chust...   \n",
       "1     Namangan viloyati IIB Majlislar zalida Migrats...   \n",
       "2     Denov tumanida tashkilotlar oʻrtasida sportnin...   \n",
       "3     Surxondaryo viloyati IIB Migratsiya va fuqarol...   \n",
       "4     Qumqoʻrgʻon tumani IIBda yangi “Kutubxona” foy...   \n",
       "...                                                 ...   \n",
       "1263  “14 yanvar` – Vatan himoyachilari kuni” bayram...   \n",
       "1264  Guliston shahrida “Profilaktika kuni” munosaba...   \n",
       "1265  Bir guruh ichki ishlar organlari xodimlari taq...   \n",
       "1266              \"Vatanparvarlik oyligi\" davom etmoqda   \n",
       "1267  IIV Sirdaryo akademik litseyida huquqni muhofa...   \n",
       "\n",
       "                                                content  \n",
       "0     Unda Boshqarma boshligʻi oʻrinbosarlari, Boshq...  \n",
       "1     Unda, viloyat IIB boshligʻi oʻrinbosarlari, so...  \n",
       "2     Joriy yilning 15-iyul kuni Denov tumanidagi ma...  \n",
       "3     Joriy yilning 15-iyul kuni Surxondaryo viloyat...  \n",
       "4     2023-yil 14-iyul kuni Qumqoʻrgʻon tumani Ichki...  \n",
       "...                                                 ...  \n",
       "1263  Barcha joyda bo'lgani kabi O'zbekiston Respubl...  \n",
       "1264  Guliston shahar Qurilish kasb-hunar kollejida ...  \n",
       "1265  Ichki ishlar vazirligi tizimi xodimlarining ke...  \n",
       "1266  IIV Akademiyasi Axborot xizmatining xabar beri...  \n",
       "1267  O'zbekiston Respublikasi Ichki ishlar vazirini...  \n",
       "\n",
       "[1268 rows x 2 columns]"
      ]
     },
     "execution_count": 27,
     "metadata": {},
     "output_type": "execute_result"
    }
   ],
   "source": [
    "# pd.DataFrame(results)"
   ]
  },
  {
   "cell_type": "code",
   "execution_count": null,
   "id": "1dfe82cc-ab17-408f-81b7-61c5a9c32ce8",
   "metadata": {},
   "outputs": [],
   "source": []
  },
  {
   "cell_type": "code",
   "execution_count": 26,
   "id": "4f204798",
   "metadata": {},
   "outputs": [],
   "source": [
    "df.to_pickle(\"MainFiles/presidentuz.pickle\")"
   ]
  }
 ],
 "metadata": {
  "kernelspec": {
   "display_name": "Python 3",
   "language": "python",
   "name": "python3"
  },
  "language_info": {
   "codemirror_mode": {
    "name": "ipython",
    "version": 3
   },
   "file_extension": ".py",
   "mimetype": "text/x-python",
   "name": "python",
   "nbconvert_exporter": "python",
   "pygments_lexer": "ipython3",
   "version": "3.8.10"
  }
 },
 "nbformat": 4,
 "nbformat_minor": 5
}