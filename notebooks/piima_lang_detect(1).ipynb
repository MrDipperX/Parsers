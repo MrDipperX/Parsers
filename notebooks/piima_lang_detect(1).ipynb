{
 "cells": [
  {
   "cell_type": "code",
   "execution_count": 6,
   "id": "10360083-e767-4657-a401-f285a3f2b4a9",
   "metadata": {},
   "outputs": [
    {
     "name": "stderr",
     "output_type": "stream",
     "text": [
      "Xformers is not installed correctly. If you want to use memory_efficient_attention to accelerate training use the following command to install Xformers\n",
      "pip install xformers.\n"
     ]
    }
   ],
   "source": [
    "# Use a pipeline as a high-level helper\n",
    "from transformers import pipeline\n",
    "import os\n",
    "\n",
    "pipe = pipeline(\"text-classification\", model=\"rifkat/uz_kr_lang-detection\")"
   ]
  },
  {
   "cell_type": "code",
   "execution_count": null,
   "id": "9d0263ec-0e87-4e5a-86fb-8ae76a68bdf6",
   "metadata": {},
   "outputs": [],
   "source": []
  },
  {
   "cell_type": "code",
   "execution_count": 16,
   "id": "a2497881-4d3b-432b-a83c-f0e65aaed209",
   "metadata": {},
   "outputs": [],
   "source": [
    "a = pipe('Salom hammaga')"
   ]
  },
  {
   "cell_type": "code",
   "execution_count": 19,
   "id": "ab8dda76-7981-4317-b12d-7c4a50c52f33",
   "metadata": {},
   "outputs": [
    {
     "data": {
      "text/plain": [
       "'uz'"
      ]
     },
     "execution_count": 19,
     "metadata": {},
     "output_type": "execute_result"
    }
   ],
   "source": [
    "a[0]['label']"
   ]
  },
  {
   "cell_type": "code",
   "execution_count": 8,
   "id": "83392dc7-54a5-4f7e-8661-062ec92a6859",
   "metadata": {},
   "outputs": [],
   "source": [
    "TOKEN = '6244200952:AAHyQ22ZiiXqIcfgNV8lAd_R2OQTEjo0Ubc'\n",
    "CHAT_ID = '111312651'"
   ]
  },
  {
   "cell_type": "code",
   "execution_count": 9,
   "id": "988c02fd-eca3-432a-b6ed-4eb448993200",
   "metadata": {},
   "outputs": [],
   "source": [
    "NEWS_URL = \"https://portal.piima.uz/news?page={page}\" #1250\n",
    "\n",
    "LAST = 277"
   ]
  },
  {
   "cell_type": "code",
   "execution_count": 2,
   "id": "b59311c6-65f4-407f-8f04-28de4e41bce0",
   "metadata": {},
   "outputs": [
    {
     "name": "stderr",
     "output_type": "stream",
     "text": [
      "/opt/conda/lib/python3.10/site-packages/tqdm/auto.py:22: TqdmWarning: IProgress not found. Please update jupyter and ipywidgets. See https://ipywidgets.readthedocs.io/en/stable/user_install.html\n",
      "  from .autonotebook import tqdm as notebook_tqdm\n"
     ]
    }
   ],
   "source": [
    "import aiohttp\n",
    "import asyncio\n",
    "import bs4\n",
    "import datetime\n",
    "from io import BytesIO\n",
    "import pandas as pd\n",
    "import requests\n",
    "import time\n",
    "from tqdm.contrib.telegram import tqdm"
   ]
  },
  {
   "cell_type": "code",
   "execution_count": 5,
   "id": "298ca17b-8118-4f2f-8cb7-6e13a7f6b1ff",
   "metadata": {},
   "outputs": [
    {
     "name": "stderr",
     "output_type": "stream",
     "text": [
      "/opt/conda/lib/python3.10/site-packages/urllib3/connectionpool.py:1045: InsecureRequestWarning: Unverified HTTPS request is being made to host 'portal.piima.uz'. Adding certificate verification is strongly advised. See: https://urllib3.readthedocs.io/en/1.26.x/advanced-usage.html#ssl-warnings\n",
      "  warnings.warn(\n"
     ]
    },
    {
     "name": "stdout",
     "output_type": "stream",
     "text": [
      "https://portal.piima.uz/news/nukus-shahrida-millatimizni-jahonga-tanitgan-buyuk-ajdodlarmizga-munosib-orinbosarlarni-tarbiyalashga-moljallangan-prezident-maktabi-ochildi\n",
      "https://portal.piima.uz/news/katta-umidlar-ilk-natijalarini-bermoqda\n",
      "https://portal.piima.uz/news/prezidentskie-skoly-otkrylis-v-xive-namangane-i-nukuse\n",
      "https://portal.piima.uz/news/xorazm-vohasidan-buyuk-ajdodlarimiz-vorislari-yetishib-chiqadi\n",
      "https://portal.piima.uz/news/namanganda-prezident-maktabi-ochildi\n",
      "https://portal.piima.uz/news/rangli-va-oq-qora-dunyo-rasmlar-va-fotosuratlar-korgazmasi\n",
      "https://portal.piima.uz/news/sarvar-babaxodzaev-vozglavil-agentstvo-po-razvitiyu-prezidentskix-i-specskol\n"
     ]
    }
   ],
   "source": [
    "from bs4 import BeautifulSoup\n",
    "\n",
    "url = 'https://portal.piima.uz/news?page=277'\n",
    "response = requests.get(url, verify=False)\n",
    "soup = BeautifulSoup(response.text, \"lxml\")\n",
    "quotes = soup.find('div', class_='row w-100').find_all('a')\n",
    "\n",
    "for i in quotes:\n",
    "    print(i['href'])"
   ]
  },
  {
   "cell_type": "code",
   "execution_count": null,
   "id": "e14b7879-d34a-45ca-9d8e-392ed8731534",
   "metadata": {},
   "outputs": [],
   "source": []
  },
  {
   "cell_type": "code",
   "execution_count": 13,
   "id": "2ca6baed-f5df-436e-b3f0-e36aea231e8b",
   "metadata": {},
   "outputs": [
    {
     "name": "stderr",
     "output_type": "stream",
     "text": [
      "/tmp/ipykernel_715/1699348387.py:3: DeprecationWarning: verify_ssl is deprecated, use ssl=False instead\n",
      "  async with aiohttp.ClientSession(connector=aiohttp.TCPConnector(verify_ssl=False)) as session:\n",
      "100%|█████████████████████████████████████████████████████████████████████████████████| 277/277 [01:42<00:00,  2.70it/s]\n"
     ]
    }
   ],
   "source": [
    "links = []\n",
    "async def main():\n",
    "    async with aiohttp.ClientSession(connector=aiohttp.TCPConnector(verify_ssl=False)) as session:\n",
    "        for page in tqdm(range(1, LAST+1), token=TOKEN, chat_id=CHAT_ID):\n",
    "            try:\n",
    "                async with session.get(NEWS_URL.format(page=page)) as resp:\n",
    "                    if resp.status == 200:\n",
    "                        data = await resp.text()\n",
    "                        soup = bs4.BeautifulSoup(data)\n",
    "                        selected_links = soup.find('div', class_='row w-100').find_all('a')\n",
    "                        links.extend([link['href'] for link in selected_links])\n",
    "                    elif resp.status != 404:\n",
    "                        await asyncio.sleep(60) # 1 minute\n",
    "            except Exception as e:\n",
    "                print(e, \"page_num\", page)\n",
    "await main()"
   ]
  },
  {
   "cell_type": "code",
   "execution_count": 20,
   "id": "19ced3e5-ade2-4d56-be94-80bd62809ae6",
   "metadata": {},
   "outputs": [
    {
     "name": "stderr",
     "output_type": "stream",
     "text": [
      "/tmp/ipykernel_715/679143861.py:3: DeprecationWarning: verify_ssl is deprecated, use ssl=False instead\n",
      "  async with aiohttp.ClientSession(connector=aiohttp.TCPConnector(verify_ssl=False)) as session:\n",
      "  9%|███████                                                                         | 194/2215 [01:58<49:18,  1.46s/it]"
     ]
    },
    {
     "name": "stdout",
     "output_type": "stream",
     "text": [
      "Server disconnected https://portal.piima.uz/news/manim\n"
     ]
    },
    {
     "name": "stderr",
     "output_type": "stream",
     "text": [
      " 13%|██████████▏                                                                     | 283/2215 [02:56<35:50,  1.11s/it]"
     ]
    },
    {
     "name": "stdout",
     "output_type": "stream",
     "text": [
      "Server disconnected https://portal.piima.uz/news/yoshlarni-vatanparvarlik-ruhida-tarbiyalash-ustuvor-vazifa\n"
     ]
    },
    {
     "name": "stderr",
     "output_type": "stream",
     "text": [
      " 14%|███████████▍                                                                    | 318/2215 [03:16<16:53,  1.87it/s]Token indices sequence length is longer than the specified maximum sequence length for this model (550 > 512). Running this sequence through the model will result in indexing errors\n",
      " 14%|███████████▌                                                                    | 319/2215 [03:16<17:54,  1.76it/s]"
     ]
    },
    {
     "name": "stdout",
     "output_type": "stream",
     "text": [
      "The expanded size of the tensor (550) must match the existing size (514) at non-singleton dimension 1.  Target sizes: [1, 550].  Tensor sizes: [1, 514] https://portal.piima.uz/news/muhammad-al-xorazmiy-nomidagi-ixtisoslashtirilgan-maktablari-oquvchilari-bir-qator-xalqaro-sertifikatlarni-qolga-kiritishdi\n"
     ]
    },
    {
     "name": "stderr",
     "output_type": "stream",
     "text": [
      " 24%|███████████████████▎                                                            | 535/2215 [05:31<48:52,  1.75s/it]"
     ]
    },
    {
     "name": "stdout",
     "output_type": "stream",
     "text": [
      "Server disconnected https://portal.piima.uz/news/agentlik-tizimidagi-maktablar-o-quvchilariningxalqaro-mintaqaviy-va-mahalliy-fan-olimpiadalaridan-erishgan-yutuqlari\n"
     ]
    },
    {
     "name": "stderr",
     "output_type": "stream",
     "text": [
      " 29%|██████████████████████▉                                                         | 635/2215 [06:32<40:13,  1.53s/it]"
     ]
    },
    {
     "name": "stdout",
     "output_type": "stream",
     "text": [
      "Server disconnected https://portal.piima.uz/news/prezident-talim-muassasalari-agentligi-direktori-hilola-umarova-fransiya-respublikasining-ozbekiston-respublikasidagi-favqulodda-va-muxtor-elchisi-aurelia-bushez-bilan-uchrashdi\n"
     ]
    },
    {
     "name": "stderr",
     "output_type": "stream",
     "text": [
      " 31%|████████████████████████▊                                                       | 687/2215 [07:03<33:46,  1.33s/it]"
     ]
    },
    {
     "name": "stdout",
     "output_type": "stream",
     "text": [
      "Server disconnected https://portal.piima.uz/news/agentlik-tizimidagi-yangi-ixtisoslashtirilgan-maktablarga-qabul-yuzasidan-statistika-4\n"
     ]
    },
    {
     "name": "stderr",
     "output_type": "stream",
     "text": [
      " 36%|█████████████████████████████                                                   | 805/2215 [08:13<30:42,  1.31s/it]"
     ]
    },
    {
     "name": "stdout",
     "output_type": "stream",
     "text": [
      "Server disconnected https://portal.piima.uz/news/o-zbekiston-qizlarining-raqamli-imkoniyatlarini-kengaytirish-forumi-doirasida-tashkil-etilgan-1-panel-muhokamasida-prezident-ta-lim-muassasalari-agentligi-direktori-hilola-umarova-ishtirok-etdi\n"
     ]
    },
    {
     "name": "stderr",
     "output_type": "stream",
     "text": [
      " 37%|█████████████████████████████▌                                                  | 818/2215 [08:23<35:45,  1.54s/it]"
     ]
    },
    {
     "name": "stdout",
     "output_type": "stream",
     "text": [
      "Server disconnected https://portal.piima.uz/news/56-xalqaro-mendeleyev-olimpiadasiga-start-berildi\n"
     ]
    },
    {
     "name": "stderr",
     "output_type": "stream",
     "text": [
      " 43%|█████████████████████████████████▏                                            | 944/2215 [09:49<1:28:48,  4.19s/it]"
     ]
    },
    {
     "name": "stdout",
     "output_type": "stream",
     "text": [
      "Server disconnected https://portal.piima.uz/news/9-ta-xorijiy-oquv-yurtlariga-kirgan-oquvchi-bilan-intervyu\n"
     ]
    },
    {
     "name": "stderr",
     "output_type": "stream",
     "text": [
      " 46%|████████████████████████████████████▎                                          | 1017/2215 [10:30<10:13,  1.95it/s]"
     ]
    },
    {
     "name": "stdout",
     "output_type": "stream",
     "text": [
      "The expanded size of the tensor (607) must match the existing size (514) at non-singleton dimension 1.  Target sizes: [1, 607].  Tensor sizes: [1, 514] https://portal.piima.uz/news/yangi-ozbekiston-gazetasida-yangi-ozbekiston-universiteti-prorektori-elyorjon-jumayev-bilan-intervyu-elon-qilindi\n"
     ]
    },
    {
     "name": "stderr",
     "output_type": "stream",
     "text": [
      " 46%|████████████████████████████████████▎                                          | 1018/2215 [10:31<09:37,  2.07it/s]"
     ]
    },
    {
     "name": "stdout",
     "output_type": "stream",
     "text": [
      "The expanded size of the tensor (718) must match the existing size (514) at non-singleton dimension 1.  Target sizes: [1, 718].  Tensor sizes: [1, 514] https://portal.piima.uz/news/prezident-talim-muassasalari-agentligi-tizimidagi-talim-muassasalari-uchun-bolalar-oromgohi-tashkil-etiladi\n"
     ]
    },
    {
     "name": "stderr",
     "output_type": "stream",
     "text": [
      " 47%|█████████████████████████████████████▏                                         | 1042/2215 [10:46<12:05,  1.62it/s]"
     ]
    },
    {
     "name": "stdout",
     "output_type": "stream",
     "text": [
      "The expanded size of the tensor (672) must match the existing size (514) at non-singleton dimension 1.  Target sizes: [1, 672].  Tensor sizes: [1, 514] https://portal.piima.uz/news/maktab-baholash-tizimida-inson-omili-minimallashtiriladi\n"
     ]
    },
    {
     "name": "stderr",
     "output_type": "stream",
     "text": [
      " 51%|████████████████████████████████████████▏                                      | 1126/2215 [11:40<20:07,  1.11s/it]"
     ]
    },
    {
     "name": "stdout",
     "output_type": "stream",
     "text": [
      "Server disconnected https://portal.piima.uz/news/agentlik-tizimidagi-faoliyati-endi-boshlangan-yangi-prezident-maktablarining-ishga-qabul-qilingan-pedagoglari-uchun-treninglar-davom-etmoqda\n"
     ]
    },
    {
     "name": "stderr",
     "output_type": "stream",
     "text": [
      " 55%|███████████████████████████████████████████▋                                   | 1226/2215 [12:37<08:03,  2.05it/s]"
     ]
    },
    {
     "name": "stdout",
     "output_type": "stream",
     "text": [
      "The expanded size of the tensor (725) must match the existing size (514) at non-singleton dimension 1.  Target sizes: [1, 725].  Tensor sizes: [1, 514] https://portal.piima.uz/news/qadring-baland-bo-lsin-ona-tilim-nomli-tanlov-yakunlandi\n"
     ]
    },
    {
     "name": "stderr",
     "output_type": "stream",
     "text": [
      " 58%|█████████████████████████████████████████████▌                                 | 1279/2215 [13:07<08:28,  1.84it/s]"
     ]
    },
    {
     "name": "stdout",
     "output_type": "stream",
     "text": [
      "The expanded size of the tensor (618) must match the existing size (514) at non-singleton dimension 1.  Target sizes: [1, 618].  Tensor sizes: [1, 514] https://portal.piima.uz/news/matematika-fani-boyicha-ishlab-chiqilgan-integratsiyalashgan-talim-dasturi-muhokamasi-bolib-otdi\n"
     ]
    },
    {
     "name": "stderr",
     "output_type": "stream",
     "text": [
      " 61%|████████████████████████████████████████████████                               | 1347/2215 [13:50<08:11,  1.76it/s]"
     ]
    },
    {
     "name": "stdout",
     "output_type": "stream",
     "text": [
      "The expanded size of the tensor (923) must match the existing size (514) at non-singleton dimension 1.  Target sizes: [1, 923].  Tensor sizes: [1, 514] https://portal.piima.uz/news/shaffof-imtihon-iqtidorli-oquvchilarni-tanlab-olish-uchun-asosiy-qadam\n"
     ]
    },
    {
     "name": "stderr",
     "output_type": "stream",
     "text": [
      " 61%|████████████████████████████████████████████████                               | 1348/2215 [13:50<07:22,  1.96it/s]"
     ]
    },
    {
     "name": "stdout",
     "output_type": "stream",
     "text": [
      "The expanded size of the tensor (663) must match the existing size (514) at non-singleton dimension 1.  Target sizes: [1, 663].  Tensor sizes: [1, 514] https://portal.piima.uz/news/agentlik-huzurida-tashkil-etilgan-ilmiy-metodik-kengashning-dastlabki-yigilishi-bolib-otdi\n"
     ]
    },
    {
     "name": "stderr",
     "output_type": "stream",
     "text": [
      " 61%|████████████████████████████████████████████████▎                              | 1354/2215 [13:55<10:02,  1.43it/s]"
     ]
    },
    {
     "name": "stdout",
     "output_type": "stream",
     "text": [
      "The expanded size of the tensor (1498) must match the existing size (514) at non-singleton dimension 1.  Target sizes: [1, 1498].  Tensor sizes: [1, 514] https://portal.piima.uz/news/prezident-qaroriga-munosabat\n"
     ]
    },
    {
     "name": "stderr",
     "output_type": "stream",
     "text": [
      " 61%|████████████████████████████████████████████████▍                              | 1359/2215 [14:00<15:58,  1.12s/it]"
     ]
    },
    {
     "name": "stdout",
     "output_type": "stream",
     "text": [
      "Server disconnected https://portal.piima.uz/news/agentlik-tomonidan-onlayn-vebinar-tashkil-etildi\n"
     ]
    },
    {
     "name": "stderr",
     "output_type": "stream",
     "text": [
      " 63%|█████████████████████████████████████████████████▍                             | 1387/2215 [14:20<19:31,  1.41s/it]"
     ]
    },
    {
     "name": "stdout",
     "output_type": "stream",
     "text": [
      "Server disconnected https://portal.piima.uz/news/prezident-maktablariga-hujjat-topshirgan-talabgorlar-diqqatiga\n"
     ]
    },
    {
     "name": "stderr",
     "output_type": "stream",
     "text": [
      " 63%|█████████████████████████████████████████████████▉                             | 1399/2215 [14:31<23:06,  1.70s/it]"
     ]
    },
    {
     "name": "stdout",
     "output_type": "stream",
     "text": [
      "Server disconnected https://portal.piima.uz/news/graduates-of-the-presidential-school-in-nukus-received-a-grant-from-a-foreign-university\n"
     ]
    },
    {
     "name": "stderr",
     "output_type": "stream",
     "text": [
      " 64%|██████████████████████████████████████████████████▌                            | 1417/2215 [14:41<06:43,  1.98it/s]"
     ]
    },
    {
     "name": "stdout",
     "output_type": "stream",
     "text": [
      "The expanded size of the tensor (541) must match the existing size (514) at non-singleton dimension 1.  Target sizes: [1, 541].  Tensor sizes: [1, 514] https://portal.piima.uz/news/ijod-maktablari-imtihoni-birinchi-bosqichi-yakunlandi\n"
     ]
    },
    {
     "name": "stderr",
     "output_type": "stream",
     "text": [
      " 72%|█████████████████████████████████████████████████████████▏                     | 1602/2215 [16:24<05:29,  1.86it/s]"
     ]
    },
    {
     "name": "stdout",
     "output_type": "stream",
     "text": [
      "The expanded size of the tensor (828) must match the existing size (514) at non-singleton dimension 1.  Target sizes: [1, 828].  Tensor sizes: [1, 514] https://portal.piima.uz/news/prezident-maktablariga-qabul-va-kirish-imtihonlarini-o-tkazish-tartibi-yuzasidan-matbuot-anjumanida\n"
     ]
    },
    {
     "name": "stderr",
     "output_type": "stream",
     "text": [
      " 74%|██████████████████████████████████████████████████████████▎                    | 1634/2215 [16:46<12:58,  1.34s/it]"
     ]
    },
    {
     "name": "stdout",
     "output_type": "stream",
     "text": [
      "Server disconnected https://portal.piima.uz/news/o-tkan-kunlar-romani-tarjimoni-mark-riz-qodiriy-izdoshlari-bilan-uchrashdi\n"
     ]
    },
    {
     "name": "stderr",
     "output_type": "stream",
     "text": [
      " 78%|█████████████████████████████████████████████████████████████▍                 | 1721/2215 [17:35<04:11,  1.96it/s]"
     ]
    },
    {
     "name": "stdout",
     "output_type": "stream",
     "text": [
      "The expanded size of the tensor (682) must match the existing size (514) at non-singleton dimension 1.  Target sizes: [1, 682].  Tensor sizes: [1, 514] https://portal.piima.uz/news/bolalar-ijodi-kitobga-mehr\n"
     ]
    },
    {
     "name": "stderr",
     "output_type": "stream",
     "text": [
      " 78%|█████████████████████████████████████████████████████████████▊                 | 1733/2215 [17:57<37:29,  4.67s/it]"
     ]
    },
    {
     "name": "stdout",
     "output_type": "stream",
     "text": [
      "Server disconnected https://portal.piima.uz/news/ijod-maktablarida-kitobxonlikni-targiboti\n"
     ]
    },
    {
     "name": "stderr",
     "output_type": "stream",
     "text": [
      " 83%|█████████████████████████████████████████████████████████████████▌             | 1838/2215 [19:04<11:31,  1.83s/it]"
     ]
    },
    {
     "name": "stdout",
     "output_type": "stream",
     "text": [
      "Server disconnected https://portal.piima.uz/news/fizika-fani-boyicha-yangi-elektron-darslik-yaratildi\n"
     ]
    },
    {
     "name": "stderr",
     "output_type": "stream",
     "text": [
      " 84%|██████████████████████████████████████████████████████████████████▎            | 1859/2215 [19:20<03:42,  1.60it/s]"
     ]
    },
    {
     "name": "stdout",
     "output_type": "stream",
     "text": [
      "The expanded size of the tensor (589) must match the existing size (514) at non-singleton dimension 1.  Target sizes: [1, 589].  Tensor sizes: [1, 514] https://portal.piima.uz/news/sostoitsya-konferenciya-mezdunarodnoe-znacenie-tvorcestva-i-literaturno-xudozestvennogo-naslediya-zulfii\n"
     ]
    },
    {
     "name": "stderr",
     "output_type": "stream",
     "text": [
      " 85%|██████████████████████████████████████████████████████████████████▉            | 1876/2215 [19:34<08:15,  1.46s/it]"
     ]
    },
    {
     "name": "stdout",
     "output_type": "stream",
     "text": [
      "Server disconnected https://portal.piima.uz/news/opredeleny-pobediteli-konkursa-unikalnyi-mir-ogaxi\n"
     ]
    },
    {
     "name": "stderr",
     "output_type": "stream",
     "text": [
      " 92%|████████████████████████████████████████████████████████████████████████▉      | 2046/2215 [21:45<01:49,  1.55it/s]"
     ]
    },
    {
     "name": "stdout",
     "output_type": "stream",
     "text": [
      "The expanded size of the tensor (1738) must match the existing size (514) at non-singleton dimension 1.  Target sizes: [1, 1738].  Tensor sizes: [1, 514] https://portal.piima.uz/news/kriticeskaya-ocenka-sobstvennoi-deyatelnosti-kardinalno-izmenit-nasu-rabotu\n"
     ]
    },
    {
     "name": "stderr",
     "output_type": "stream",
     "text": [
      " 92%|█████████████████████████████████████████████████████████████████████████      | 2047/2215 [21:46<01:38,  1.70it/s]"
     ]
    },
    {
     "name": "stdout",
     "output_type": "stream",
     "text": [
      "The expanded size of the tensor (2146) must match the existing size (514) at non-singleton dimension 1.  Target sizes: [1, 2146].  Tensor sizes: [1, 514] https://portal.piima.uz/news/faoliyatimizga-tanqidiy-nazar-bilan-baho-berish-ishimizda-burilish-yasaydi\n"
     ]
    },
    {
     "name": "stderr",
     "output_type": "stream",
     "text": [
      " 95%|██████████████████████████████████████████████████████████████████████████▋    | 2095/2215 [22:24<01:13,  1.64it/s]"
     ]
    },
    {
     "name": "stdout",
     "output_type": "stream",
     "text": [
      "The expanded size of the tensor (516) must match the existing size (514) at non-singleton dimension 1.  Target sizes: [1, 516].  Tensor sizes: [1, 514] https://portal.piima.uz/news/hamma-narsani-orzu-qilsa-boladi-ammo-muvaffaqiyatni-emas-unga-mehnat-bilan-erishiladi\n"
     ]
    },
    {
     "name": "stderr",
     "output_type": "stream",
     "text": [
      " 95%|███████████████████████████████████████████████████████████████████████████    | 2105/2215 [22:32<01:42,  1.08it/s]"
     ]
    },
    {
     "name": "stdout",
     "output_type": "stream",
     "text": [
      "The expanded size of the tensor (1657) must match the existing size (514) at non-singleton dimension 1.  Target sizes: [1, 1657].  Tensor sizes: [1, 514] https://portal.piima.uz/news/prinyaty-mery-po-povyseniyu-kacestva-nepreryvnogo-obrazovaniya-po-napravleniyam-ximiya-i-biologiya\n"
     ]
    },
    {
     "name": "stderr",
     "output_type": "stream",
     "text": [
      " 95%|███████████████████████████████████████████████████████████████████████████    | 2106/2215 [22:37<03:41,  2.03s/it]"
     ]
    },
    {
     "name": "stdout",
     "output_type": "stream",
     "text": [
      "Server disconnected https://portal.piima.uz/news/prezident-ijod-va-ixtisoslashtirilgan-maktablarni-rivojlantirish-agentligi-ijod-va-ixtisoslashtirilgan-maktablarga-oqituvchilarni-ishga-taklif-qiladi\n"
     ]
    },
    {
     "name": "stderr",
     "output_type": "stream",
     "text": [
      " 96%|████████████████████████████████████████████████████████████████████████████▏  | 2136/2215 [23:00<01:29,  1.14s/it]"
     ]
    },
    {
     "name": "stdout",
     "output_type": "stream",
     "text": [
      "Server disconnected https://portal.piima.uz/news/prezident-ijod-va-ixtisoslashtirilgan-maktablarni-rivojlantirish-agentligi-tasarrufidagi-maktablarga-20202021-oquv-yili-uchun-oquvchilarni-qabul-qilish-imtihonlari-boyicha-malumot\n"
     ]
    },
    {
     "name": "stderr",
     "output_type": "stream",
     "text": [
      " 97%|████████████████████████████████████████████████████████████████████████████▌  | 2145/2215 [23:06<00:52,  1.32it/s]"
     ]
    },
    {
     "name": "stdout",
     "output_type": "stream",
     "text": [
      "The expanded size of the tensor (572) must match the existing size (514) at non-singleton dimension 1.  Target sizes: [1, 572].  Tensor sizes: [1, 514] https://portal.piima.uz/news/cerebrum-tafakkurning-zamonaviy-sinovi\n"
     ]
    },
    {
     "name": "stderr",
     "output_type": "stream",
     "text": [
      " 97%|████████████████████████████████████████████████████████████████████████████▉  | 2156/2215 [23:15<00:46,  1.26it/s]"
     ]
    },
    {
     "name": "stdout",
     "output_type": "stream",
     "text": [
      "The expanded size of the tensor (1413) must match the existing size (514) at non-singleton dimension 1.  Target sizes: [1, 1413].  Tensor sizes: [1, 514] https://portal.piima.uz/news/zamonaviy-olimlar-ajdodlarga-munosib-avlodlar-yetishtirish-burchimizdir\n"
     ]
    },
    {
     "name": "stderr",
     "output_type": "stream",
     "text": [
      " 99%|█████████████████████████████████████████████████████████████████████████████▊ | 2183/2215 [23:40<00:22,  1.43it/s]"
     ]
    },
    {
     "name": "stdout",
     "output_type": "stream",
     "text": [
      "The expanded size of the tensor (533) must match the existing size (514) at non-singleton dimension 1.  Target sizes: [1, 533].  Tensor sizes: [1, 514] https://portal.piima.uz/news/prezident-ijod-va-ixtisoslashtirilgan-maktablarda-5-ta-tashabbus-keng-joriy-etilmoqda\n"
     ]
    },
    {
     "name": "stderr",
     "output_type": "stream",
     "text": [
      "100%|███████████████████████████████████████████████████████████████████████████████| 2215/2215 [24:05<00:00,  1.53it/s]\n"
     ]
    }
   ],
   "source": [
    "results = []\n",
    "async def main():\n",
    "    async with aiohttp.ClientSession(connector=aiohttp.TCPConnector(verify_ssl=False)) as session:\n",
    "        for link in tqdm(links, token=TOKEN, chat_id=CHAT_ID):\n",
    "            try:\n",
    "                async with session.get(link) as resp:\n",
    "                    if resp.status == 200:\n",
    "                        # await asyncio.sleep(1)\n",
    "                        data = await resp.text()\n",
    "                        soup = bs4.BeautifulSoup(data)\n",
    "                        \n",
    "                        content = soup.find('div', class_=\"container py-5\").find_all(\"p\")\n",
    "                        p_list = [p.text for p in content]\n",
    "                        # if content is None:\n",
    "                        #     content = soup.find('div', class_=\"news-content tiny-mc mt-4\")\n",
    "\n",
    "                        new_text = [p for p in p_list if pipe(p)[0]['label'] == \"uz\"]\n",
    "                        new_text = \"\".join(new_text)\n",
    "                                \n",
    "                        title = soup.find('h1', class_=\"hero_box-title\").text\n",
    "                        results.append({\n",
    "                            \"title\": title.strip(),\n",
    "                            \"content\": new_text\n",
    "                        })\n",
    "                    elif resp.status != 404:\n",
    "                        await asyncio.sleep(60) # 1 minute\n",
    "            except Exception as e:\n",
    "                print(e, link)\n",
    "await main()"
   ]
  },
  {
   "cell_type": "code",
   "execution_count": 21,
   "id": "caff7e67-8a81-46e4-a007-a0b0b6237deb",
   "metadata": {},
   "outputs": [],
   "source": [
    "pd.DataFrame(results).to_pickle('piima.pickle')"
   ]
  },
  {
   "cell_type": "code",
   "execution_count": 28,
   "id": "8eef5f80-8626-4423-b465-3877012799e1",
   "metadata": {},
   "outputs": [
    {
     "data": {
      "text/plain": [
       "\"#bizning_shunday_oʻquvchilarimiz_bor\\xa0⚡️Agentligimiz tizimidagi Mirzo Ulug‘bek nomidagi ixtisoslashtirilgan maktabining 11-sinf o’quvchisi, O‘zbekiston terma jamoasi a'zosi Javohir Sultonov 53-Xalqaro fizika olimpiadasida (IPhO) bronza medalini qo‘lga kiritdi.\\xa0Ma’lumot uchun, joriy yilning 10-17-iyul kunlari Yaponiyaning Tokio \\xa0shahrida bo‘lib o‘tgan mazkur olimpiadada 91 ta mamlakatdan jami 400 nafardan ortiq o‘quvchi ishtirok etdi.\\xa0Ushbu medal Xalqaro fizika olimpiadasida(IPHO) qo’lga kiritilgan O’zbekiston tarixidagi 3-bronza medali hisoblanadi.\\xa0❗️Terma jamoamiz a’zolari mazkur nufuzli musobaqada 2015-yildan buyon ishtirok etib kelishmoqda va hozirga qadar jami 3 ta bronza medalni (2018, 2021, 2023) qo‘lga kiritishgan.\\xa0Javohirni g‘alaba bilan samimiy tabriklab, kelgusidagi o‘qish va ishlarida omad tilaymiz!\""
      ]
     },
     "execution_count": 28,
     "metadata": {},
     "output_type": "execute_result"
    }
   ],
   "source": [
    "pd.read_pickle('piima.pickle')['content'][0]"
   ]
  },
  {
   "cell_type": "code",
   "execution_count": null,
   "id": "91a5c1c9-3add-4257-b4cb-842e61398cc8",
   "metadata": {},
   "outputs": [],
   "source": []
  }
 ],
 "metadata": {
  "kernelspec": {
   "display_name": "Python 3",
   "language": "python",
   "name": "python3"
  },
  "language_info": {
   "codemirror_mode": {
    "name": "ipython",
    "version": 3
   },
   "file_extension": ".py",
   "mimetype": "text/x-python",
   "name": "python",
   "nbconvert_exporter": "python",
   "pygments_lexer": "ipython3",
   "version": "3.8.10"
  }
 },
 "nbformat": 4,
 "nbformat_minor": 5
}