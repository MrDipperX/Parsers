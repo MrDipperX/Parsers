{
 "cells": [
  {
   "cell_type": "code",
   "execution_count": 1,
   "id": "e10a6f03-903d-4948-b1c3-dcdf14af09da",
   "metadata": {
    "tags": []
   },
   "outputs": [],
   "source": [
    "import aiohttp\n",
    "import asyncio\n",
    "import bs4\n",
    "import datetime\n",
    "from io import BytesIO\n",
    "import pandas as pd\n",
    "import PyPDF2\n",
    "import requests\n",
    "import time\n",
    "from tqdm.contrib.telegram import tqdm\n",
    "from transliterate import to_latin\n",
    "import json"
   ]
  },
  {
   "cell_type": "code",
   "execution_count": 2,
   "id": "e60e6817-0f9d-4ba7-9cae-68401d692336",
   "metadata": {
    "tags": []
   },
   "outputs": [],
   "source": [
    "TOKEN = os.getenv('TOKEN')\n",
    "CHAT_ID = os.getenv('CHAT_ID')"
   ]
  },
  {
   "cell_type": "code",
   "execution_count": 3,
   "id": "96f822e8-abc6-40db-bbbe-ef8e701a6210",
   "metadata": {
    "tags": []
   },
   "outputs": [],
   "source": [
    "NEWS_URL = \"https://www.natlib.uz/bbs/list/1?pn=5&oi=insert_date&os=desc\" #1250\n",
    "NEWS_LAST = 425"
   ]
  },
  {
   "cell_type": "code",
   "execution_count": 4,
   "id": "2a183de7",
   "metadata": {},
   "outputs": [],
   "source": [
    "URLS = [[NEWS_URL, NEWS_LAST], [MEETING_URL, MEETING_LAST], [FLY_URL, FLY_LAST], \n",
    "        [DELEG_URL, DELEG_LAST], [CONGR_URL, CONGR_LAST], [RULES_URL, RULES_LAST], [RULES2_URL, RULES2_LAST]]"
   ]
  },
  {
   "cell_type": "code",
   "execution_count": 6,
   "id": "e849fdc9-def2-4455-ae17-b72e0237b358",
   "metadata": {
    "tags": []
   },
   "outputs": [],
   "source": [
    "BASE_URL = \"https://www.natlib.uz/\""
   ]
  },
  {
   "cell_type": "code",
   "execution_count": 7,
   "id": "cb9e3dc4-c994-4d29-bd63-dbb62be254b1",
   "metadata": {
    "tags": []
   },
   "outputs": [
    {
     "name": "stdout",
     "output_type": "stream",
     "text": [
      "https://www.natlib.uz//bbs/content/1_557434?os=desc&pn=5&oi=insert_date&\n",
      "https://www.natlib.uz//bbs/content/1_557433?os=desc&pn=5&oi=insert_date&\n",
      "https://www.natlib.uz//bbs/content/1_557429?os=desc&pn=5&oi=insert_date&\n",
      "https://www.natlib.uz//bbs/content/1_557428?os=desc&pn=5&oi=insert_date&\n",
      "https://www.natlib.uz//bbs/content/1_557432?os=desc&pn=5&oi=insert_date&\n",
      "https://www.natlib.uz//bbs/content/1_557431?os=desc&pn=5&oi=insert_date&\n"
     ]
    }
   ],
   "source": [
    "from bs4 import BeautifulSoup\n",
    "\n",
    "response = requests.get(NEWS_URL)\n",
    "soup = BeautifulSoup(response.text, 'lxml')\n",
    "content = soup.find('ul', class_=\"thumbList\").find_all('li')\n",
    "\n",
    "# print(content)\n",
    "\n",
    "for i in content:\n",
    "    print(BASE_URL + i.find('a')['href'])"
   ]
  },
  {
   "cell_type": "code",
   "execution_count": 8,
   "id": "80dddd3a",
   "metadata": {},
   "outputs": [],
   "source": [
    "links = []"
   ]
  },
  {
   "cell_type": "code",
   "execution_count": 10,
   "id": "5bc595bc-7b2c-47fb-adb5-33e9a5e8987f",
   "metadata": {
    "tags": []
   },
   "outputs": [
    {
     "data": {
      "application/vnd.jupyter.widget-view+json": {
       "model_id": "16307270612a4703844c696d41d1678c",
       "version_major": 2,
       "version_minor": 0
      },
      "text/plain": [
       "  0%|          | 0/425 [00:00<?, ?it/s]"
      ]
     },
     "metadata": {},
     "output_type": "display_data"
    }
   ],
   "source": [
    "async def main():\n",
    "    async with aiohttp.ClientSession() as session:\n",
    "        for page in tqdm(range(1, NEWS_LAST+1), token=TOKEN, chat_id=CHAT_ID):\n",
    "            try:\n",
    "                async with session.get(NEWS_URL.format(page=page)) as resp:\n",
    "                    if resp.status == 200:\n",
    "                        data = await resp.text()\n",
    "                        soup = bs4.BeautifulSoup(data)\n",
    "                        selected_links = soup.find('ul', class_=\"thumbList\").find_all('li')\n",
    "                        links.extend([BASE_URL+link.find('a')['href'] for link in selected_links])\n",
    "                    elif resp.status != 404:\n",
    "                        await asyncio.sleep(60) # 1 minute\n",
    "            except Exception as e:\n",
    "                print(e, \"page_num\", page)\n",
    "await main()"
   ]
  },
  {
   "cell_type": "code",
   "execution_count": null,
   "id": "cd133a3d",
   "metadata": {},
   "outputs": [],
   "source": []
  },
  {
   "cell_type": "code",
   "execution_count": 12,
   "id": "77051df6-117c-4d8a-9336-1c65d894da7f",
   "metadata": {},
   "outputs": [
    {
     "data": {
      "application/vnd.jupyter.widget-view+json": {
       "model_id": "2764b7a3e1aa49a987b1c7944322f8aa",
       "version_major": 2,
       "version_minor": 0
      },
      "text/plain": [
       "  0%|          | 0/2550 [00:00<?, ?it/s]"
      ]
     },
     "metadata": {},
     "output_type": "display_data"
    }
   ],
   "source": [
    "results = []\n",
    "\n",
    "async def main():\n",
    "    async with aiohttp.ClientSession() as session:\n",
    "\n",
    "        for ind, link in enumerate(tqdm(links, token=TOKEN, chat_id=CHAT_ID)):\n",
    "            try:\n",
    "                async with session.get(link) as resp:\n",
    "                    if resp.status == 200:\n",
    "                        data = await resp.text()\n",
    "                        soup = bs4.BeautifulSoup(data)\n",
    "\n",
    "                        title = soup.find('p', class_=\"boardInfoTitle\").text\n",
    "                        content = soup.find('div', class_=\"boardContent\").text\n",
    "\n",
    "                        results.append({\n",
    "                            \"title\": title.strip(),\n",
    "                            \"content\": content.strip()\n",
    "                        })\n",
    "                    elif resp.status != 404:\n",
    "                        await asyncio.sleep(60) # 1 minute\n",
    "                        print(\"404\", link)\n",
    "            except Exception as e:\n",
    "                print(e, link)\n",
    "    \n",
    "await main()"
   ]
  },
  {
   "cell_type": "code",
   "execution_count": 13,
   "id": "111458da",
   "metadata": {},
   "outputs": [],
   "source": [
    "df = pd.DataFrame(results)"
   ]
  },
  {
   "cell_type": "code",
   "execution_count": 18,
   "id": "e5b64a47",
   "metadata": {},
   "outputs": [],
   "source": [
    "df = df.replace({'\\n':''}, regex=True)"
   ]
  },
  {
   "cell_type": "code",
   "execution_count": 14,
   "id": "eecd0669",
   "metadata": {},
   "outputs": [],
   "source": [
    "from transliterate import to_latin\n",
    "\n",
    "df['title'] = df['title'].apply(lambda x: to_latin(x))\n",
    "\n",
    "df['content'] = df['content'].apply(lambda x: to_latin(x))"
   ]
  },
  {
   "cell_type": "code",
   "execution_count": 16,
   "id": "84e20aec",
   "metadata": {},
   "outputs": [],
   "source": [
    "import demoji\n",
    "\n",
    "df['title'] = df['title'].apply(lambda x: demoji.replace(x, \"\"))\n",
    "\n",
    "df['content'] = df['content'].apply(lambda x: demoji.replace(x, \"\"))"
   ]
  },
  {
   "cell_type": "code",
   "execution_count": 19,
   "id": "01aa5b79",
   "metadata": {},
   "outputs": [
    {
     "data": {
      "text/html": [
       "<div>\n",
       "<style scoped>\n",
       "    .dataframe tbody tr th:only-of-type {\n",
       "        vertical-align: middle;\n",
       "    }\n",
       "\n",
       "    .dataframe tbody tr th {\n",
       "        vertical-align: top;\n",
       "    }\n",
       "\n",
       "    .dataframe thead th {\n",
       "        text-align: right;\n",
       "    }\n",
       "</style>\n",
       "<table border=\"1\" class=\"dataframe\">\n",
       "  <thead>\n",
       "    <tr style=\"text-align: right;\">\n",
       "      <th></th>\n",
       "      <th>title</th>\n",
       "      <th>content</th>\n",
       "    </tr>\n",
       "  </thead>\n",
       "  <tbody>\n",
       "    <tr>\n",
       "      <th>0</th>\n",
       "      <td>“Yilning eng yaxshi Axborot-kutubxona mutaxass...</td>\n",
       "      <td>Axborot-kutubxona mutaxassislarining kasbiy ma...</td>\n",
       "    </tr>\n",
       "    <tr>\n",
       "      <th>1</th>\n",
       "      <td>11-iyul - \"Xalqaro shokolad kuni\"</td>\n",
       "      <td>Bugun, 11-iyul kuni dunyo bo‘ylab Xalqaro shok...</td>\n",
       "    </tr>\n",
       "    <tr>\n",
       "      <th>2</th>\n",
       "      <td>QIZIQARLI MA’LUMOTLAR</td>\n",
       "      <td>#Bilimlarga_boy_dushanba Siz qaysi turdagi kit...</td>\n",
       "    </tr>\n",
       "    <tr>\n",
       "      <th>3</th>\n",
       "      <td>Bilimlarga boy dushanba</td>\n",
       "      <td>#Bilimlarga_boy_dushanba qiziqarli maʼlumotlar...</td>\n",
       "    </tr>\n",
       "    <tr>\n",
       "      <th>4</th>\n",
       "      <td>Alisher Navoiy nomidagi O‘zbekiston Milliy kut...</td>\n",
       "      <td>2023-yilning 10 iyul kuni Alisher Navoiy nomid...</td>\n",
       "    </tr>\n",
       "    <tr>\n",
       "      <th>...</th>\n",
       "      <td>...</td>\n",
       "      <td>...</td>\n",
       "    </tr>\n",
       "    <tr>\n",
       "      <th>2545</th>\n",
       "      <td>11-iyul - \"Xalqaro shokolad kuni\"</td>\n",
       "      <td>Bugun, 11-iyul kuni dunyo bo‘ylab Xalqaro shok...</td>\n",
       "    </tr>\n",
       "    <tr>\n",
       "      <th>2546</th>\n",
       "      <td>QIZIQARLI MA’LUMOTLAR</td>\n",
       "      <td>#Bilimlarga_boy_dushanba Siz qaysi turdagi kit...</td>\n",
       "    </tr>\n",
       "    <tr>\n",
       "      <th>2547</th>\n",
       "      <td>Bilimlarga boy dushanba</td>\n",
       "      <td>#Bilimlarga_boy_dushanba qiziqarli maʼlumotlar...</td>\n",
       "    </tr>\n",
       "    <tr>\n",
       "      <th>2548</th>\n",
       "      <td>Alisher Navoiy nomidagi O‘zbekiston Milliy kut...</td>\n",
       "      <td>2023-yilning 10 iyul kuni Alisher Navoiy nomid...</td>\n",
       "    </tr>\n",
       "    <tr>\n",
       "      <th>2549</th>\n",
       "      <td>Aziz kitobxonlar!</td>\n",
       "      <td>#Buyuk_mutafakkir\\r#Beruniy_1050   Aziz kitobx...</td>\n",
       "    </tr>\n",
       "  </tbody>\n",
       "</table>\n",
       "<p>2550 rows × 2 columns</p>\n",
       "</div>"
      ],
      "text/plain": [
       "                                                  title  \\\n",
       "0     “Yilning eng yaxshi Axborot-kutubxona mutaxass...   \n",
       "1                     11-iyul - \"Xalqaro shokolad kuni\"   \n",
       "2                                 QIZIQARLI MA’LUMOTLAR   \n",
       "3                               Bilimlarga boy dushanba   \n",
       "4     Alisher Navoiy nomidagi O‘zbekiston Milliy kut...   \n",
       "...                                                 ...   \n",
       "2545                  11-iyul - \"Xalqaro shokolad kuni\"   \n",
       "2546                              QIZIQARLI MA’LUMOTLAR   \n",
       "2547                            Bilimlarga boy dushanba   \n",
       "2548  Alisher Navoiy nomidagi O‘zbekiston Milliy kut...   \n",
       "2549                                  Aziz kitobxonlar!   \n",
       "\n",
       "                                                content  \n",
       "0     Axborot-kutubxona mutaxassislarining kasbiy ma...  \n",
       "1     Bugun, 11-iyul kuni dunyo bo‘ylab Xalqaro shok...  \n",
       "2     #Bilimlarga_boy_dushanba Siz qaysi turdagi kit...  \n",
       "3     #Bilimlarga_boy_dushanba qiziqarli maʼlumotlar...  \n",
       "4     2023-yilning 10 iyul kuni Alisher Navoiy nomid...  \n",
       "...                                                 ...  \n",
       "2545  Bugun, 11-iyul kuni dunyo bo‘ylab Xalqaro shok...  \n",
       "2546  #Bilimlarga_boy_dushanba Siz qaysi turdagi kit...  \n",
       "2547  #Bilimlarga_boy_dushanba qiziqarli maʼlumotlar...  \n",
       "2548  2023-yilning 10 iyul kuni Alisher Navoiy nomid...  \n",
       "2549  #Buyuk_mutafakkir\\r#Beruniy_1050   Aziz kitobx...  \n",
       "\n",
       "[2550 rows x 2 columns]"
      ]
     },
     "execution_count": 19,
     "metadata": {},
     "output_type": "execute_result"
    }
   ],
   "source": [
    "df"
   ]
  },
  {
   "cell_type": "code",
   "execution_count": 27,
   "id": "d5fb64d2-dcb2-4617-a726-17e9556cd2d0",
   "metadata": {
    "tags": []
   },
   "outputs": [
    {
     "data": {
      "text/html": [
       "<div>\n",
       "<style scoped>\n",
       "    .dataframe tbody tr th:only-of-type {\n",
       "        vertical-align: middle;\n",
       "    }\n",
       "\n",
       "    .dataframe tbody tr th {\n",
       "        vertical-align: top;\n",
       "    }\n",
       "\n",
       "    .dataframe thead th {\n",
       "        text-align: right;\n",
       "    }\n",
       "</style>\n",
       "<table border=\"1\" class=\"dataframe\">\n",
       "  <thead>\n",
       "    <tr style=\"text-align: right;\">\n",
       "      <th></th>\n",
       "      <th>title</th>\n",
       "      <th>content</th>\n",
       "    </tr>\n",
       "  </thead>\n",
       "  <tbody>\n",
       "    <tr>\n",
       "      <th>0</th>\n",
       "      <td>Namangan viloyati IIB boshligʻi huzurida Chust...</td>\n",
       "      <td>Unda Boshqarma boshligʻi oʻrinbosarlari, Boshq...</td>\n",
       "    </tr>\n",
       "    <tr>\n",
       "      <th>1</th>\n",
       "      <td>Namangan viloyati IIB Majlislar zalida Migrats...</td>\n",
       "      <td>Unda, viloyat IIB boshligʻi oʻrinbosarlari, so...</td>\n",
       "    </tr>\n",
       "    <tr>\n",
       "      <th>2</th>\n",
       "      <td>Denov tumanida tashkilotlar oʻrtasida sportnin...</td>\n",
       "      <td>Joriy yilning 15-iyul kuni Denov tumanidagi ma...</td>\n",
       "    </tr>\n",
       "    <tr>\n",
       "      <th>3</th>\n",
       "      <td>Surxondaryo viloyati IIB Migratsiya va fuqarol...</td>\n",
       "      <td>Joriy yilning 15-iyul kuni Surxondaryo viloyat...</td>\n",
       "    </tr>\n",
       "    <tr>\n",
       "      <th>4</th>\n",
       "      <td>Qumqoʻrgʻon tumani IIBda yangi “Kutubxona” foy...</td>\n",
       "      <td>2023-yil 14-iyul kuni Qumqoʻrgʻon tumani Ichki...</td>\n",
       "    </tr>\n",
       "    <tr>\n",
       "      <th>...</th>\n",
       "      <td>...</td>\n",
       "      <td>...</td>\n",
       "    </tr>\n",
       "    <tr>\n",
       "      <th>1263</th>\n",
       "      <td>“14 yanvar` – Vatan himoyachilari kuni” bayram...</td>\n",
       "      <td>Barcha joyda bo'lgani kabi O'zbekiston Respubl...</td>\n",
       "    </tr>\n",
       "    <tr>\n",
       "      <th>1264</th>\n",
       "      <td>Guliston shahrida “Profilaktika kuni” munosaba...</td>\n",
       "      <td>Guliston shahar Qurilish kasb-hunar kollejida ...</td>\n",
       "    </tr>\n",
       "    <tr>\n",
       "      <th>1265</th>\n",
       "      <td>Bir guruh ichki ishlar organlari xodimlari taq...</td>\n",
       "      <td>Ichki ishlar vazirligi tizimi xodimlarining ke...</td>\n",
       "    </tr>\n",
       "    <tr>\n",
       "      <th>1266</th>\n",
       "      <td>\"Vatanparvarlik oyligi\" davom etmoqda</td>\n",
       "      <td>IIV Akademiyasi Axborot xizmatining xabar beri...</td>\n",
       "    </tr>\n",
       "    <tr>\n",
       "      <th>1267</th>\n",
       "      <td>IIV Sirdaryo akademik litseyida huquqni muhofa...</td>\n",
       "      <td>O'zbekiston Respublikasi Ichki ishlar vazirini...</td>\n",
       "    </tr>\n",
       "  </tbody>\n",
       "</table>\n",
       "<p>1268 rows × 2 columns</p>\n",
       "</div>"
      ],
      "text/plain": [
       "                                                  title  \\\n",
       "0     Namangan viloyati IIB boshligʻi huzurida Chust...   \n",
       "1     Namangan viloyati IIB Majlislar zalida Migrats...   \n",
       "2     Denov tumanida tashkilotlar oʻrtasida sportnin...   \n",
       "3     Surxondaryo viloyati IIB Migratsiya va fuqarol...   \n",
       "4     Qumqoʻrgʻon tumani IIBda yangi “Kutubxona” foy...   \n",
       "...                                                 ...   \n",
       "1263  “14 yanvar` – Vatan himoyachilari kuni” bayram...   \n",
       "1264  Guliston shahrida “Profilaktika kuni” munosaba...   \n",
       "1265  Bir guruh ichki ishlar organlari xodimlari taq...   \n",
       "1266              \"Vatanparvarlik oyligi\" davom etmoqda   \n",
       "1267  IIV Sirdaryo akademik litseyida huquqni muhofa...   \n",
       "\n",
       "                                                content  \n",
       "0     Unda Boshqarma boshligʻi oʻrinbosarlari, Boshq...  \n",
       "1     Unda, viloyat IIB boshligʻi oʻrinbosarlari, so...  \n",
       "2     Joriy yilning 15-iyul kuni Denov tumanidagi ma...  \n",
       "3     Joriy yilning 15-iyul kuni Surxondaryo viloyat...  \n",
       "4     2023-yil 14-iyul kuni Qumqoʻrgʻon tumani Ichki...  \n",
       "...                                                 ...  \n",
       "1263  Barcha joyda bo'lgani kabi O'zbekiston Respubl...  \n",
       "1264  Guliston shahar Qurilish kasb-hunar kollejida ...  \n",
       "1265  Ichki ishlar vazirligi tizimi xodimlarining ke...  \n",
       "1266  IIV Akademiyasi Axborot xizmatining xabar beri...  \n",
       "1267  O'zbekiston Respublikasi Ichki ishlar vazirini...  \n",
       "\n",
       "[1268 rows x 2 columns]"
      ]
     },
     "execution_count": 27,
     "metadata": {},
     "output_type": "execute_result"
    }
   ],
   "source": [
    "pd.DataFrame(results)"
   ]
  },
  {
   "cell_type": "code",
   "execution_count": null,
   "id": "1dfe82cc-ab17-408f-81b7-61c5a9c32ce8",
   "metadata": {},
   "outputs": [],
   "source": []
  },
  {
   "cell_type": "code",
   "execution_count": 20,
   "id": "4f204798",
   "metadata": {},
   "outputs": [],
   "source": [
    "df.to_pickle(\"MainFiles/natib.pickle\")"
   ]
  },
  {
   "cell_type": "code",
   "execution_count": null,
   "id": "d088deb3",
   "metadata": {},
   "outputs": [],
   "source": []
  }
 ],
 "metadata": {
  "kernelspec": {
   "display_name": "Python 3",
   "language": "python",
   "name": "python3"
  },
  "language_info": {
   "codemirror_mode": {
    "name": "ipython",
    "version": 3
   },
   "file_extension": ".py",
   "mimetype": "text/x-python",
   "name": "python",
   "nbconvert_exporter": "python",
   "pygments_lexer": "ipython3",
   "version": "3.8.10"
  }
 },
 "nbformat": 4,
 "nbformat_minor": 5
}
